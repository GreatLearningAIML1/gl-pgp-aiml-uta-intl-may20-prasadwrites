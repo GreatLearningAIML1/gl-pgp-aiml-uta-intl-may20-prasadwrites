{
 "cells": [
  {
   "cell_type": "markdown",
   "metadata": {},
   "source": [
    "\n",
    "\n",
    "Problem Statement: Bank Churn Prediction\n",
    "-------------------------------------------------------------------------------------------------------------------------\n",
    "\n",
    "Objective:\n",
    "\n",
    "Given a Bank customer, build a neural network-based classifier that can determine whether they will leave or not.\n",
    "\n",
    "Context:\n",
    "\n",
    "Businesses like banks which provide service have to worry about the problem of 'Churn' i.e. customers leaving and joining another service provider. It is important to understand which aspects of the service influence a customer's decision in this regard. Management can concentrate efforts on improvement of service, keeping in mind these priorities.\n",
    "\n",
    "Data Description:\n",
    "\n",
    "The case study is from an open-source dataset from Kaggle. The dataset contains 10,000 sample points with 14 distinct features such as CustomerId, CreditScore, Geography, Gender, Age, Tenure, Balance etc. Link to the Kaggle project site: https://www.kaggle.com/barelydedicated/bank-customer-churn-modeling\n",
    "\n",
    "Points Distribution:\n",
    "\n",
    "The points distribution for this case is as follows:\n",
    "\n",
    "Read the dataset\n",
    "\n",
    "Drop the columns which are unique for all users like IDs (5points)\n",
    "\n",
    "Distinguish the features and target variable(5points)\n",
    "\n",
    "Divide the data set into training and test sets (5points)\n",
    "\n",
    "Normalize the train and test data (10points)\n",
    "\n",
    "Initialize & build the model.\n",
    "Identify the points of improvement and implement the same. \n",
    "Note that you need to demonstrate at least two models(the original and the improved one) and highlight the differences to complete this point. You can also demonstrate more models. (20points)\n",
    "\n",
    "Predict the results using 0.5 as a threshold. Note that you need to first predict the probability and then predict classes using the given threshold (10points)\n",
    "\n",
    "Print the Accuracy score and confusion matrix (5points)\n",
    "\n",
    "Happy Learning!!"
   ]
  },
  {
   "cell_type": "code",
   "execution_count": 6119,
   "metadata": {},
   "outputs": [
    {
     "name": "stdout",
     "output_type": "stream",
     "text": [
      "2.0.0\n"
     ]
    }
   ],
   "source": [
    "import tensorflow as tf\n",
    "print(tf.__version__)"
   ]
  },
  {
   "cell_type": "code",
   "execution_count": 6120,
   "metadata": {},
   "outputs": [],
   "source": [
    "import pandas as pd\n",
    "import numpy as np\n",
    "import seaborn as sns\n",
    "from sklearn.model_selection import train_test_split\n",
    "from sklearn.preprocessing import LabelEncoder, StandardScaler\n",
    "import tensorflow as tf\n",
    "from sklearn import preprocessing\n",
    "from tensorflow.keras.models import Sequential\n",
    "from tensorflow.keras.layers import Dense, Dropout, BatchNormalization\n",
    "from sklearn.metrics import accuracy_score, confusion_matrix, precision_score, recall_score, f1_score, precision_recall_curve, auc\n",
    "import matplotlib.pyplot as plt\n",
    "from tensorflow.keras import optimizers"
   ]
  },
  {
   "cell_type": "code",
   "execution_count": 6121,
   "metadata": {},
   "outputs": [],
   "source": [
    "data = pd.read_csv(\"bank.csv\")"
   ]
  },
  {
   "cell_type": "code",
   "execution_count": 6122,
   "metadata": {},
   "outputs": [
    {
     "data": {
      "text/html": [
       "<div>\n",
       "<style scoped>\n",
       "    .dataframe tbody tr th:only-of-type {\n",
       "        vertical-align: middle;\n",
       "    }\n",
       "\n",
       "    .dataframe tbody tr th {\n",
       "        vertical-align: top;\n",
       "    }\n",
       "\n",
       "    .dataframe thead th {\n",
       "        text-align: right;\n",
       "    }\n",
       "</style>\n",
       "<table border=\"1\" class=\"dataframe\">\n",
       "  <thead>\n",
       "    <tr style=\"text-align: right;\">\n",
       "      <th></th>\n",
       "      <th>RowNumber</th>\n",
       "      <th>CustomerId</th>\n",
       "      <th>Surname</th>\n",
       "      <th>CreditScore</th>\n",
       "      <th>Geography</th>\n",
       "      <th>Gender</th>\n",
       "      <th>Age</th>\n",
       "      <th>Tenure</th>\n",
       "      <th>Balance</th>\n",
       "      <th>NumOfProducts</th>\n",
       "      <th>HasCrCard</th>\n",
       "      <th>IsActiveMember</th>\n",
       "      <th>EstimatedSalary</th>\n",
       "      <th>Exited</th>\n",
       "    </tr>\n",
       "  </thead>\n",
       "  <tbody>\n",
       "    <tr>\n",
       "      <th>0</th>\n",
       "      <td>1</td>\n",
       "      <td>15634602</td>\n",
       "      <td>Hargrave</td>\n",
       "      <td>619</td>\n",
       "      <td>France</td>\n",
       "      <td>Female</td>\n",
       "      <td>42</td>\n",
       "      <td>2</td>\n",
       "      <td>0.00</td>\n",
       "      <td>1</td>\n",
       "      <td>1</td>\n",
       "      <td>1</td>\n",
       "      <td>101348.88</td>\n",
       "      <td>1</td>\n",
       "    </tr>\n",
       "    <tr>\n",
       "      <th>1</th>\n",
       "      <td>2</td>\n",
       "      <td>15647311</td>\n",
       "      <td>Hill</td>\n",
       "      <td>608</td>\n",
       "      <td>Spain</td>\n",
       "      <td>Female</td>\n",
       "      <td>41</td>\n",
       "      <td>1</td>\n",
       "      <td>83807.86</td>\n",
       "      <td>1</td>\n",
       "      <td>0</td>\n",
       "      <td>1</td>\n",
       "      <td>112542.58</td>\n",
       "      <td>0</td>\n",
       "    </tr>\n",
       "    <tr>\n",
       "      <th>2</th>\n",
       "      <td>3</td>\n",
       "      <td>15619304</td>\n",
       "      <td>Onio</td>\n",
       "      <td>502</td>\n",
       "      <td>France</td>\n",
       "      <td>Female</td>\n",
       "      <td>42</td>\n",
       "      <td>8</td>\n",
       "      <td>159660.80</td>\n",
       "      <td>3</td>\n",
       "      <td>1</td>\n",
       "      <td>0</td>\n",
       "      <td>113931.57</td>\n",
       "      <td>1</td>\n",
       "    </tr>\n",
       "    <tr>\n",
       "      <th>3</th>\n",
       "      <td>4</td>\n",
       "      <td>15701354</td>\n",
       "      <td>Boni</td>\n",
       "      <td>699</td>\n",
       "      <td>France</td>\n",
       "      <td>Female</td>\n",
       "      <td>39</td>\n",
       "      <td>1</td>\n",
       "      <td>0.00</td>\n",
       "      <td>2</td>\n",
       "      <td>0</td>\n",
       "      <td>0</td>\n",
       "      <td>93826.63</td>\n",
       "      <td>0</td>\n",
       "    </tr>\n",
       "    <tr>\n",
       "      <th>4</th>\n",
       "      <td>5</td>\n",
       "      <td>15737888</td>\n",
       "      <td>Mitchell</td>\n",
       "      <td>850</td>\n",
       "      <td>Spain</td>\n",
       "      <td>Female</td>\n",
       "      <td>43</td>\n",
       "      <td>2</td>\n",
       "      <td>125510.82</td>\n",
       "      <td>1</td>\n",
       "      <td>1</td>\n",
       "      <td>1</td>\n",
       "      <td>79084.10</td>\n",
       "      <td>0</td>\n",
       "    </tr>\n",
       "  </tbody>\n",
       "</table>\n",
       "</div>"
      ],
      "text/plain": [
       "   RowNumber  CustomerId   Surname  CreditScore Geography  Gender  Age  \\\n",
       "0          1    15634602  Hargrave          619    France  Female   42   \n",
       "1          2    15647311      Hill          608     Spain  Female   41   \n",
       "2          3    15619304      Onio          502    France  Female   42   \n",
       "3          4    15701354      Boni          699    France  Female   39   \n",
       "4          5    15737888  Mitchell          850     Spain  Female   43   \n",
       "\n",
       "   Tenure    Balance  NumOfProducts  HasCrCard  IsActiveMember  \\\n",
       "0       2       0.00              1          1               1   \n",
       "1       1   83807.86              1          0               1   \n",
       "2       8  159660.80              3          1               0   \n",
       "3       1       0.00              2          0               0   \n",
       "4       2  125510.82              1          1               1   \n",
       "\n",
       "   EstimatedSalary  Exited  \n",
       "0        101348.88       1  \n",
       "1        112542.58       0  \n",
       "2        113931.57       1  \n",
       "3         93826.63       0  \n",
       "4         79084.10       0  "
      ]
     },
     "execution_count": 6122,
     "metadata": {},
     "output_type": "execute_result"
    }
   ],
   "source": [
    "data.head()"
   ]
  },
  {
   "cell_type": "code",
   "execution_count": 6123,
   "metadata": {},
   "outputs": [
    {
     "data": {
      "text/plain": [
       "(10000, 14)"
      ]
     },
     "execution_count": 6123,
     "metadata": {},
     "output_type": "execute_result"
    }
   ],
   "source": [
    "data.shape"
   ]
  },
  {
   "cell_type": "markdown",
   "metadata": {},
   "source": [
    "### Drop the columns which are unique for all users like IDs (5points)"
   ]
  },
  {
   "cell_type": "code",
   "execution_count": 6124,
   "metadata": {},
   "outputs": [
    {
     "data": {
      "text/html": [
       "<div>\n",
       "<style scoped>\n",
       "    .dataframe tbody tr th:only-of-type {\n",
       "        vertical-align: middle;\n",
       "    }\n",
       "\n",
       "    .dataframe tbody tr th {\n",
       "        vertical-align: top;\n",
       "    }\n",
       "\n",
       "    .dataframe thead th {\n",
       "        text-align: right;\n",
       "    }\n",
       "</style>\n",
       "<table border=\"1\" class=\"dataframe\">\n",
       "  <thead>\n",
       "    <tr style=\"text-align: right;\">\n",
       "      <th></th>\n",
       "      <th>CreditScore</th>\n",
       "      <th>Geography</th>\n",
       "      <th>Gender</th>\n",
       "      <th>Age</th>\n",
       "      <th>Tenure</th>\n",
       "      <th>Balance</th>\n",
       "      <th>NumOfProducts</th>\n",
       "      <th>HasCrCard</th>\n",
       "      <th>IsActiveMember</th>\n",
       "      <th>EstimatedSalary</th>\n",
       "      <th>Exited</th>\n",
       "    </tr>\n",
       "  </thead>\n",
       "  <tbody>\n",
       "    <tr>\n",
       "      <th>0</th>\n",
       "      <td>619</td>\n",
       "      <td>France</td>\n",
       "      <td>Female</td>\n",
       "      <td>42</td>\n",
       "      <td>2</td>\n",
       "      <td>0.00</td>\n",
       "      <td>1</td>\n",
       "      <td>1</td>\n",
       "      <td>1</td>\n",
       "      <td>101348.88</td>\n",
       "      <td>1</td>\n",
       "    </tr>\n",
       "    <tr>\n",
       "      <th>1</th>\n",
       "      <td>608</td>\n",
       "      <td>Spain</td>\n",
       "      <td>Female</td>\n",
       "      <td>41</td>\n",
       "      <td>1</td>\n",
       "      <td>83807.86</td>\n",
       "      <td>1</td>\n",
       "      <td>0</td>\n",
       "      <td>1</td>\n",
       "      <td>112542.58</td>\n",
       "      <td>0</td>\n",
       "    </tr>\n",
       "    <tr>\n",
       "      <th>2</th>\n",
       "      <td>502</td>\n",
       "      <td>France</td>\n",
       "      <td>Female</td>\n",
       "      <td>42</td>\n",
       "      <td>8</td>\n",
       "      <td>159660.80</td>\n",
       "      <td>3</td>\n",
       "      <td>1</td>\n",
       "      <td>0</td>\n",
       "      <td>113931.57</td>\n",
       "      <td>1</td>\n",
       "    </tr>\n",
       "    <tr>\n",
       "      <th>3</th>\n",
       "      <td>699</td>\n",
       "      <td>France</td>\n",
       "      <td>Female</td>\n",
       "      <td>39</td>\n",
       "      <td>1</td>\n",
       "      <td>0.00</td>\n",
       "      <td>2</td>\n",
       "      <td>0</td>\n",
       "      <td>0</td>\n",
       "      <td>93826.63</td>\n",
       "      <td>0</td>\n",
       "    </tr>\n",
       "    <tr>\n",
       "      <th>4</th>\n",
       "      <td>850</td>\n",
       "      <td>Spain</td>\n",
       "      <td>Female</td>\n",
       "      <td>43</td>\n",
       "      <td>2</td>\n",
       "      <td>125510.82</td>\n",
       "      <td>1</td>\n",
       "      <td>1</td>\n",
       "      <td>1</td>\n",
       "      <td>79084.10</td>\n",
       "      <td>0</td>\n",
       "    </tr>\n",
       "  </tbody>\n",
       "</table>\n",
       "</div>"
      ],
      "text/plain": [
       "   CreditScore Geography  Gender  Age  Tenure    Balance  NumOfProducts  \\\n",
       "0          619    France  Female   42       2       0.00              1   \n",
       "1          608     Spain  Female   41       1   83807.86              1   \n",
       "2          502    France  Female   42       8  159660.80              3   \n",
       "3          699    France  Female   39       1       0.00              2   \n",
       "4          850     Spain  Female   43       2  125510.82              1   \n",
       "\n",
       "   HasCrCard  IsActiveMember  EstimatedSalary  Exited  \n",
       "0          1               1        101348.88       1  \n",
       "1          0               1        112542.58       0  \n",
       "2          1               0        113931.57       1  \n",
       "3          0               0         93826.63       0  \n",
       "4          1               1         79084.10       0  "
      ]
     },
     "execution_count": 6124,
     "metadata": {},
     "output_type": "execute_result"
    }
   ],
   "source": [
    "data = data.drop([\"RowNumber\",\"CustomerId\",\"Surname\"], axis = 1)\n",
    "data.head()"
   ]
  },
  {
   "cell_type": "code",
   "execution_count": 6125,
   "metadata": {},
   "outputs": [
    {
     "data": {
      "text/plain": [
       "CreditScore        False\n",
       "Geography          False\n",
       "Gender             False\n",
       "Age                False\n",
       "Tenure             False\n",
       "Balance            False\n",
       "NumOfProducts      False\n",
       "HasCrCard          False\n",
       "IsActiveMember     False\n",
       "EstimatedSalary    False\n",
       "Exited             False\n",
       "dtype: bool"
      ]
     },
     "execution_count": 6125,
     "metadata": {},
     "output_type": "execute_result"
    }
   ],
   "source": [
    "data.isnull().any()"
   ]
  },
  {
   "cell_type": "code",
   "execution_count": 6126,
   "metadata": {},
   "outputs": [
    {
     "data": {
      "text/plain": [
       "CreditScore        False\n",
       "Geography          False\n",
       "Gender             False\n",
       "Age                False\n",
       "Tenure             False\n",
       "Balance            False\n",
       "NumOfProducts      False\n",
       "HasCrCard          False\n",
       "IsActiveMember     False\n",
       "EstimatedSalary    False\n",
       "Exited             False\n",
       "dtype: bool"
      ]
     },
     "execution_count": 6126,
     "metadata": {},
     "output_type": "execute_result"
    }
   ],
   "source": [
    "data.isna().any()"
   ]
  },
  {
   "cell_type": "markdown",
   "metadata": {},
   "source": [
    "### Distinguish the features and target variable(5points)\n",
    "Here 'exited' is the target variable and rest are independent variables."
   ]
  },
  {
   "cell_type": "code",
   "execution_count": 6127,
   "metadata": {},
   "outputs": [
    {
     "data": {
      "text/plain": [
       "array(['France', 'Spain', 'Germany'], dtype=object)"
      ]
     },
     "execution_count": 6127,
     "metadata": {},
     "output_type": "execute_result"
    }
   ],
   "source": [
    "data[\"Geography\"].unique()"
   ]
  },
  {
   "cell_type": "code",
   "execution_count": 6128,
   "metadata": {},
   "outputs": [
    {
     "data": {
      "text/html": [
       "<div>\n",
       "<style scoped>\n",
       "    .dataframe tbody tr th:only-of-type {\n",
       "        vertical-align: middle;\n",
       "    }\n",
       "\n",
       "    .dataframe tbody tr th {\n",
       "        vertical-align: top;\n",
       "    }\n",
       "\n",
       "    .dataframe thead th {\n",
       "        text-align: right;\n",
       "    }\n",
       "</style>\n",
       "<table border=\"1\" class=\"dataframe\">\n",
       "  <thead>\n",
       "    <tr style=\"text-align: right;\">\n",
       "      <th></th>\n",
       "      <th>CreditScore</th>\n",
       "      <th>Geography</th>\n",
       "      <th>Gender</th>\n",
       "      <th>Age</th>\n",
       "      <th>Tenure</th>\n",
       "      <th>Balance</th>\n",
       "      <th>NumOfProducts</th>\n",
       "      <th>HasCrCard</th>\n",
       "      <th>IsActiveMember</th>\n",
       "      <th>EstimatedSalary</th>\n",
       "      <th>Exited</th>\n",
       "    </tr>\n",
       "  </thead>\n",
       "  <tbody>\n",
       "    <tr>\n",
       "      <th>0</th>\n",
       "      <td>619</td>\n",
       "      <td>0</td>\n",
       "      <td>0</td>\n",
       "      <td>42</td>\n",
       "      <td>2</td>\n",
       "      <td>0.00</td>\n",
       "      <td>1</td>\n",
       "      <td>1</td>\n",
       "      <td>1</td>\n",
       "      <td>101348.88</td>\n",
       "      <td>1</td>\n",
       "    </tr>\n",
       "    <tr>\n",
       "      <th>1</th>\n",
       "      <td>608</td>\n",
       "      <td>2</td>\n",
       "      <td>0</td>\n",
       "      <td>41</td>\n",
       "      <td>1</td>\n",
       "      <td>83807.86</td>\n",
       "      <td>1</td>\n",
       "      <td>0</td>\n",
       "      <td>1</td>\n",
       "      <td>112542.58</td>\n",
       "      <td>0</td>\n",
       "    </tr>\n",
       "    <tr>\n",
       "      <th>2</th>\n",
       "      <td>502</td>\n",
       "      <td>0</td>\n",
       "      <td>0</td>\n",
       "      <td>42</td>\n",
       "      <td>8</td>\n",
       "      <td>159660.80</td>\n",
       "      <td>3</td>\n",
       "      <td>1</td>\n",
       "      <td>0</td>\n",
       "      <td>113931.57</td>\n",
       "      <td>1</td>\n",
       "    </tr>\n",
       "    <tr>\n",
       "      <th>3</th>\n",
       "      <td>699</td>\n",
       "      <td>0</td>\n",
       "      <td>0</td>\n",
       "      <td>39</td>\n",
       "      <td>1</td>\n",
       "      <td>0.00</td>\n",
       "      <td>2</td>\n",
       "      <td>0</td>\n",
       "      <td>0</td>\n",
       "      <td>93826.63</td>\n",
       "      <td>0</td>\n",
       "    </tr>\n",
       "    <tr>\n",
       "      <th>4</th>\n",
       "      <td>850</td>\n",
       "      <td>2</td>\n",
       "      <td>0</td>\n",
       "      <td>43</td>\n",
       "      <td>2</td>\n",
       "      <td>125510.82</td>\n",
       "      <td>1</td>\n",
       "      <td>1</td>\n",
       "      <td>1</td>\n",
       "      <td>79084.10</td>\n",
       "      <td>0</td>\n",
       "    </tr>\n",
       "    <tr>\n",
       "      <th>...</th>\n",
       "      <td>...</td>\n",
       "      <td>...</td>\n",
       "      <td>...</td>\n",
       "      <td>...</td>\n",
       "      <td>...</td>\n",
       "      <td>...</td>\n",
       "      <td>...</td>\n",
       "      <td>...</td>\n",
       "      <td>...</td>\n",
       "      <td>...</td>\n",
       "      <td>...</td>\n",
       "    </tr>\n",
       "    <tr>\n",
       "      <th>9995</th>\n",
       "      <td>771</td>\n",
       "      <td>0</td>\n",
       "      <td>1</td>\n",
       "      <td>39</td>\n",
       "      <td>5</td>\n",
       "      <td>0.00</td>\n",
       "      <td>2</td>\n",
       "      <td>1</td>\n",
       "      <td>0</td>\n",
       "      <td>96270.64</td>\n",
       "      <td>0</td>\n",
       "    </tr>\n",
       "    <tr>\n",
       "      <th>9996</th>\n",
       "      <td>516</td>\n",
       "      <td>0</td>\n",
       "      <td>1</td>\n",
       "      <td>35</td>\n",
       "      <td>10</td>\n",
       "      <td>57369.61</td>\n",
       "      <td>1</td>\n",
       "      <td>1</td>\n",
       "      <td>1</td>\n",
       "      <td>101699.77</td>\n",
       "      <td>0</td>\n",
       "    </tr>\n",
       "    <tr>\n",
       "      <th>9997</th>\n",
       "      <td>709</td>\n",
       "      <td>0</td>\n",
       "      <td>0</td>\n",
       "      <td>36</td>\n",
       "      <td>7</td>\n",
       "      <td>0.00</td>\n",
       "      <td>1</td>\n",
       "      <td>0</td>\n",
       "      <td>1</td>\n",
       "      <td>42085.58</td>\n",
       "      <td>1</td>\n",
       "    </tr>\n",
       "    <tr>\n",
       "      <th>9998</th>\n",
       "      <td>772</td>\n",
       "      <td>1</td>\n",
       "      <td>1</td>\n",
       "      <td>42</td>\n",
       "      <td>3</td>\n",
       "      <td>75075.31</td>\n",
       "      <td>2</td>\n",
       "      <td>1</td>\n",
       "      <td>0</td>\n",
       "      <td>92888.52</td>\n",
       "      <td>1</td>\n",
       "    </tr>\n",
       "    <tr>\n",
       "      <th>9999</th>\n",
       "      <td>792</td>\n",
       "      <td>0</td>\n",
       "      <td>0</td>\n",
       "      <td>28</td>\n",
       "      <td>4</td>\n",
       "      <td>130142.79</td>\n",
       "      <td>1</td>\n",
       "      <td>1</td>\n",
       "      <td>0</td>\n",
       "      <td>38190.78</td>\n",
       "      <td>0</td>\n",
       "    </tr>\n",
       "  </tbody>\n",
       "</table>\n",
       "<p>10000 rows × 11 columns</p>\n",
       "</div>"
      ],
      "text/plain": [
       "      CreditScore  Geography  Gender  Age  Tenure    Balance  NumOfProducts  \\\n",
       "0             619          0       0   42       2       0.00              1   \n",
       "1             608          2       0   41       1   83807.86              1   \n",
       "2             502          0       0   42       8  159660.80              3   \n",
       "3             699          0       0   39       1       0.00              2   \n",
       "4             850          2       0   43       2  125510.82              1   \n",
       "...           ...        ...     ...  ...     ...        ...            ...   \n",
       "9995          771          0       1   39       5       0.00              2   \n",
       "9996          516          0       1   35      10   57369.61              1   \n",
       "9997          709          0       0   36       7       0.00              1   \n",
       "9998          772          1       1   42       3   75075.31              2   \n",
       "9999          792          0       0   28       4  130142.79              1   \n",
       "\n",
       "      HasCrCard  IsActiveMember  EstimatedSalary  Exited  \n",
       "0             1               1        101348.88       1  \n",
       "1             0               1        112542.58       0  \n",
       "2             1               0        113931.57       1  \n",
       "3             0               0         93826.63       0  \n",
       "4             1               1         79084.10       0  \n",
       "...         ...             ...              ...     ...  \n",
       "9995          1               0         96270.64       0  \n",
       "9996          1               1        101699.77       0  \n",
       "9997          0               1         42085.58       1  \n",
       "9998          1               0         92888.52       1  \n",
       "9999          1               0         38190.78       0  \n",
       "\n",
       "[10000 rows x 11 columns]"
      ]
     },
     "execution_count": 6128,
     "metadata": {},
     "output_type": "execute_result"
    }
   ],
   "source": [
    "encoder = LabelEncoder()\n",
    "data[\"Geography\"] = encoder.fit_transform(data[\"Geography\"])\n",
    "data[\"Gender\"] = encoder.fit_transform(data[\"Gender\"])\n",
    "data"
   ]
  },
  {
   "cell_type": "code",
   "execution_count": 6129,
   "metadata": {},
   "outputs": [
    {
     "data": {
      "text/html": [
       "<div>\n",
       "<style scoped>\n",
       "    .dataframe tbody tr th:only-of-type {\n",
       "        vertical-align: middle;\n",
       "    }\n",
       "\n",
       "    .dataframe tbody tr th {\n",
       "        vertical-align: top;\n",
       "    }\n",
       "\n",
       "    .dataframe thead th {\n",
       "        text-align: right;\n",
       "    }\n",
       "</style>\n",
       "<table border=\"1\" class=\"dataframe\">\n",
       "  <thead>\n",
       "    <tr style=\"text-align: right;\">\n",
       "      <th></th>\n",
       "      <th>CreditScore</th>\n",
       "      <th>Geography</th>\n",
       "      <th>Gender</th>\n",
       "      <th>Age</th>\n",
       "      <th>Tenure</th>\n",
       "      <th>Balance</th>\n",
       "      <th>NumOfProducts</th>\n",
       "      <th>HasCrCard</th>\n",
       "      <th>IsActiveMember</th>\n",
       "      <th>EstimatedSalary</th>\n",
       "      <th>Exited</th>\n",
       "    </tr>\n",
       "  </thead>\n",
       "  <tbody>\n",
       "    <tr>\n",
       "      <th>count</th>\n",
       "      <td>10000.000000</td>\n",
       "      <td>10000.000000</td>\n",
       "      <td>10000.000000</td>\n",
       "      <td>10000.000000</td>\n",
       "      <td>10000.000000</td>\n",
       "      <td>10000.000000</td>\n",
       "      <td>10000.000000</td>\n",
       "      <td>10000.00000</td>\n",
       "      <td>10000.000000</td>\n",
       "      <td>10000.000000</td>\n",
       "      <td>10000.000000</td>\n",
       "    </tr>\n",
       "    <tr>\n",
       "      <th>mean</th>\n",
       "      <td>650.528800</td>\n",
       "      <td>0.746300</td>\n",
       "      <td>0.545700</td>\n",
       "      <td>38.921800</td>\n",
       "      <td>5.012800</td>\n",
       "      <td>76485.889288</td>\n",
       "      <td>1.530200</td>\n",
       "      <td>0.70550</td>\n",
       "      <td>0.515100</td>\n",
       "      <td>100090.239881</td>\n",
       "      <td>0.203700</td>\n",
       "    </tr>\n",
       "    <tr>\n",
       "      <th>std</th>\n",
       "      <td>96.653299</td>\n",
       "      <td>0.827529</td>\n",
       "      <td>0.497932</td>\n",
       "      <td>10.487806</td>\n",
       "      <td>2.892174</td>\n",
       "      <td>62397.405202</td>\n",
       "      <td>0.581654</td>\n",
       "      <td>0.45584</td>\n",
       "      <td>0.499797</td>\n",
       "      <td>57510.492818</td>\n",
       "      <td>0.402769</td>\n",
       "    </tr>\n",
       "    <tr>\n",
       "      <th>min</th>\n",
       "      <td>350.000000</td>\n",
       "      <td>0.000000</td>\n",
       "      <td>0.000000</td>\n",
       "      <td>18.000000</td>\n",
       "      <td>0.000000</td>\n",
       "      <td>0.000000</td>\n",
       "      <td>1.000000</td>\n",
       "      <td>0.00000</td>\n",
       "      <td>0.000000</td>\n",
       "      <td>11.580000</td>\n",
       "      <td>0.000000</td>\n",
       "    </tr>\n",
       "    <tr>\n",
       "      <th>25%</th>\n",
       "      <td>584.000000</td>\n",
       "      <td>0.000000</td>\n",
       "      <td>0.000000</td>\n",
       "      <td>32.000000</td>\n",
       "      <td>3.000000</td>\n",
       "      <td>0.000000</td>\n",
       "      <td>1.000000</td>\n",
       "      <td>0.00000</td>\n",
       "      <td>0.000000</td>\n",
       "      <td>51002.110000</td>\n",
       "      <td>0.000000</td>\n",
       "    </tr>\n",
       "    <tr>\n",
       "      <th>50%</th>\n",
       "      <td>652.000000</td>\n",
       "      <td>0.000000</td>\n",
       "      <td>1.000000</td>\n",
       "      <td>37.000000</td>\n",
       "      <td>5.000000</td>\n",
       "      <td>97198.540000</td>\n",
       "      <td>1.000000</td>\n",
       "      <td>1.00000</td>\n",
       "      <td>1.000000</td>\n",
       "      <td>100193.915000</td>\n",
       "      <td>0.000000</td>\n",
       "    </tr>\n",
       "    <tr>\n",
       "      <th>75%</th>\n",
       "      <td>718.000000</td>\n",
       "      <td>1.000000</td>\n",
       "      <td>1.000000</td>\n",
       "      <td>44.000000</td>\n",
       "      <td>7.000000</td>\n",
       "      <td>127644.240000</td>\n",
       "      <td>2.000000</td>\n",
       "      <td>1.00000</td>\n",
       "      <td>1.000000</td>\n",
       "      <td>149388.247500</td>\n",
       "      <td>0.000000</td>\n",
       "    </tr>\n",
       "    <tr>\n",
       "      <th>max</th>\n",
       "      <td>850.000000</td>\n",
       "      <td>2.000000</td>\n",
       "      <td>1.000000</td>\n",
       "      <td>92.000000</td>\n",
       "      <td>10.000000</td>\n",
       "      <td>250898.090000</td>\n",
       "      <td>4.000000</td>\n",
       "      <td>1.00000</td>\n",
       "      <td>1.000000</td>\n",
       "      <td>199992.480000</td>\n",
       "      <td>1.000000</td>\n",
       "    </tr>\n",
       "  </tbody>\n",
       "</table>\n",
       "</div>"
      ],
      "text/plain": [
       "        CreditScore     Geography        Gender           Age        Tenure  \\\n",
       "count  10000.000000  10000.000000  10000.000000  10000.000000  10000.000000   \n",
       "mean     650.528800      0.746300      0.545700     38.921800      5.012800   \n",
       "std       96.653299      0.827529      0.497932     10.487806      2.892174   \n",
       "min      350.000000      0.000000      0.000000     18.000000      0.000000   \n",
       "25%      584.000000      0.000000      0.000000     32.000000      3.000000   \n",
       "50%      652.000000      0.000000      1.000000     37.000000      5.000000   \n",
       "75%      718.000000      1.000000      1.000000     44.000000      7.000000   \n",
       "max      850.000000      2.000000      1.000000     92.000000     10.000000   \n",
       "\n",
       "             Balance  NumOfProducts    HasCrCard  IsActiveMember  \\\n",
       "count   10000.000000   10000.000000  10000.00000    10000.000000   \n",
       "mean    76485.889288       1.530200      0.70550        0.515100   \n",
       "std     62397.405202       0.581654      0.45584        0.499797   \n",
       "min         0.000000       1.000000      0.00000        0.000000   \n",
       "25%         0.000000       1.000000      0.00000        0.000000   \n",
       "50%     97198.540000       1.000000      1.00000        1.000000   \n",
       "75%    127644.240000       2.000000      1.00000        1.000000   \n",
       "max    250898.090000       4.000000      1.00000        1.000000   \n",
       "\n",
       "       EstimatedSalary        Exited  \n",
       "count     10000.000000  10000.000000  \n",
       "mean     100090.239881      0.203700  \n",
       "std       57510.492818      0.402769  \n",
       "min          11.580000      0.000000  \n",
       "25%       51002.110000      0.000000  \n",
       "50%      100193.915000      0.000000  \n",
       "75%      149388.247500      0.000000  \n",
       "max      199992.480000      1.000000  "
      ]
     },
     "execution_count": 6129,
     "metadata": {},
     "output_type": "execute_result"
    }
   ],
   "source": [
    "data.describe()"
   ]
  },
  {
   "cell_type": "code",
   "execution_count": 6130,
   "metadata": {},
   "outputs": [
    {
     "data": {
      "text/plain": [
       "<matplotlib.axes._subplots.AxesSubplot at 0x1a403b46c88>"
      ]
     },
     "execution_count": 6130,
     "metadata": {},
     "output_type": "execute_result"
    },
    {
     "data": {
      "image/png": "[encoded data removed]",
      "text/plain": [
       "<Figure size 432x288 with 1 Axes>"
      ]
     },
     "metadata": {
      "needs_background": "light"
     },
     "output_type": "display_data"
    }
   ],
   "source": [
    "sns.distplot(data['Balance'])"
   ]
  },
  {
   "cell_type": "code",
   "execution_count": 6131,
   "metadata": {},
   "outputs": [
    {
     "data": {
      "text/plain": [
       "CreditScore        3617\n",
       "Geography          3617\n",
       "Gender             3617\n",
       "Age                3617\n",
       "Tenure             3617\n",
       "Balance            3617\n",
       "NumOfProducts      3617\n",
       "HasCrCard          3617\n",
       "IsActiveMember     3617\n",
       "EstimatedSalary    3617\n",
       "Exited             3617\n",
       "dtype: int64"
      ]
     },
     "execution_count": 6131,
     "metadata": {},
     "output_type": "execute_result"
    }
   ],
   "source": [
    "data[data['Balance']==0].count()"
   ]
  },
  {
   "cell_type": "code",
   "execution_count": 6132,
   "metadata": {},
   "outputs": [
    {
     "data": {
      "image/png": "[encoded data removed]",
      "text/plain": [
       "<Figure size 1152x864 with 2 Axes>"
      ]
     },
     "metadata": {
      "needs_background": "light"
     },
     "output_type": "display_data"
    }
   ],
   "source": [
    "\n",
    "fig,axis = plt.subplots(figsize=(16,12))\n",
    "axis = sns.heatmap(data=data.corr(method='pearson',min_periods=1),annot=True,cmap=\"YlGnBu\")"
   ]
  },
  {
   "cell_type": "markdown",
   "metadata": {},
   "source": [
    "### Divide the data set into training and test sets (5points)"
   ]
  },
  {
   "cell_type": "code",
   "execution_count": 6133,
   "metadata": {},
   "outputs": [],
   "source": [
    "X_data = data.iloc[:, :-1]\n",
    "y_data = data.iloc[:, -1]\n",
    "X_train, X_test, y_train, y_test = train_test_split(X_data, y_data, test_size = 0.2, random_state = 50)"
   ]
  },
  {
   "cell_type": "markdown",
   "metadata": {},
   "source": [
    "### Normalize the train and test data (10points)"
   ]
  },
  {
   "cell_type": "code",
   "execution_count": 6134,
   "metadata": {},
   "outputs": [
    {
     "name": "stdout",
     "output_type": "stream",
     "text": [
      "(8000, 10)\n",
      "(2000, 10)\n",
      "(8000,)\n",
      "(2000,)\n"
     ]
    },
    {
     "data": {
      "text/plain": [
       "array([[-2.1048926 ,  0.303816  , -1.11058055, ..., -1.53896753,\n",
       "         0.968496  , -1.21905131],\n",
       "       [-0.39422826,  0.303816  , -1.11058055, ...,  0.64978629,\n",
       "         0.968496  , -1.27082363],\n",
       "       [ 1.07941631,  0.303816  , -1.11058055, ...,  0.64978629,\n",
       "         0.968496  , -0.21603317],\n",
       "       ...,\n",
       "       [ 0.48171432,  0.303816  , -1.11058055, ...,  0.64978629,\n",
       "         0.968496  , -1.63442673],\n",
       "       [ 0.63629242, -0.90300029,  0.90042996, ...,  0.64978629,\n",
       "         0.968496  , -1.27359857],\n",
       "       [-0.39422826,  0.303816  , -1.11058055, ...,  0.64978629,\n",
       "        -1.03252879,  1.0489255 ]])"
      ]
     },
     "execution_count": 6134,
     "metadata": {},
     "output_type": "execute_result"
    }
   ],
   "source": [
    "sc = StandardScaler()\n",
    "X_train = sc.fit_transform(X_train)\n",
    "X_test = sc.transform(X_test)\n",
    "print(X_train.shape)\n",
    "print(X_test.shape)\n",
    "print(y_train.shape)\n",
    "print(y_test.shape)\n",
    "X_train\n",
    "X_test"
   ]
  },
  {
   "cell_type": "markdown",
   "metadata": {},
   "source": [
    "### Initialize & build the model. Identify the points of improvement and implement the same. Note that you need to demonstrate at least two models(the original and the improved one) and highlight the differences to complete this point. You can also demonstrate more models. (20points)"
   ]
  },
  {
   "cell_type": "markdown",
   "metadata": {},
   "source": [
    "### Model 1"
   ]
  },
  {
   "cell_type": "code",
   "execution_count": 6135,
   "metadata": {},
   "outputs": [],
   "source": [
    "model1 = Sequential()\n",
    "model1.add(Dense(20, input_shape = (10,), activation = 'relu', kernel_initializer='uniform'))\n",
    "model1.add(Dense(10, activation = 'tanh', kernel_initializer='uniform'))\n",
    "model1.add(Dense(1,  activation = 'sigmoid',kernel_initializer='uniform'))"
   ]
  },
  {
   "cell_type": "code",
   "execution_count": 6136,
   "metadata": {},
   "outputs": [],
   "source": [
    "sgd = optimizers.Adam(lr = 0.001)"
   ]
  },
  {
   "cell_type": "code",
   "execution_count": 6137,
   "metadata": {},
   "outputs": [],
   "source": [
    "model1.compile(optimizer = sgd, loss = 'mean_squared_error', metrics=['accuracy', 'mse'])"
   ]
  },
  {
   "cell_type": "code",
   "execution_count": 6138,
   "metadata": {},
   "outputs": [
    {
     "name": "stdout",
     "output_type": "stream",
     "text": [
      "Model: \"sequential_258\"\n",
      "_________________________________________________________________\n",
      "Layer (type)                 Output Shape              Param #   \n",
      "=================================================================\n",
      "dense_818 (Dense)            (None, 20)                220       \n",
      "_________________________________________________________________\n",
      "dense_819 (Dense)            (None, 10)                210       \n",
      "_________________________________________________________________\n",
      "dense_820 (Dense)            (None, 1)                 11        \n",
      "=================================================================\n",
      "Total params: 441\n",
      "Trainable params: 441\n",
      "Non-trainable params: 0\n",
      "_________________________________________________________________\n"
     ]
    }
   ],
   "source": [
    "model1.summary()"
   ]
  },
  {
   "cell_type": "code",
   "execution_count": 6139,
   "metadata": {},
   "outputs": [
    {
     "name": "stdout",
     "output_type": "stream",
     "text": [
      "Train on 6400 samples, validate on 1600 samples\n",
      "Epoch 1/50\n",
      "6400/6400 [==============================] - 0s 61us/sample - loss: 0.2349 - accuracy: 0.7920 - mse: 0.2349 - val_loss: 0.2045 - val_accuracy: 0.7894 - val_mse: 0.2045\n",
      "Epoch 2/50\n",
      "6400/6400 [==============================] - 0s 13us/sample - loss: 0.1667 - accuracy: 0.7972 - mse: 0.1667 - val_loss: 0.1505 - val_accuracy: 0.7894 - val_mse: 0.1505\n",
      "Epoch 3/50\n",
      "6400/6400 [==============================] - 0s 13us/sample - loss: 0.1440 - accuracy: 0.7972 - mse: 0.1440 - val_loss: 0.1451 - val_accuracy: 0.7894 - val_mse: 0.1451\n",
      "Epoch 4/50\n",
      "6400/6400 [==============================] - 0s 13us/sample - loss: 0.1402 - accuracy: 0.7972 - mse: 0.1402 - val_loss: 0.1425 - val_accuracy: 0.7894 - val_mse: 0.1425\n",
      "Epoch 5/50\n",
      "6400/6400 [==============================] - 0s 13us/sample - loss: 0.1376 - accuracy: 0.7972 - mse: 0.1376 - val_loss: 0.1404 - val_accuracy: 0.7894 - val_mse: 0.1404\n",
      "Epoch 6/50\n",
      "6400/6400 [==============================] - 0s 14us/sample - loss: 0.1356 - accuracy: 0.7972 - mse: 0.1356 - val_loss: 0.1387 - val_accuracy: 0.7894 - val_mse: 0.1387\n",
      "Epoch 7/50\n",
      "6400/6400 [==============================] - 0s 13us/sample - loss: 0.1338 - accuracy: 0.7972 - mse: 0.1338 - val_loss: 0.1372 - val_accuracy: 0.7894 - val_mse: 0.1372\n",
      "Epoch 8/50\n",
      "6400/6400 [==============================] - 0s 13us/sample - loss: 0.1322 - accuracy: 0.8000 - mse: 0.1322 - val_loss: 0.1355 - val_accuracy: 0.8163 - val_mse: 0.1355\n",
      "Epoch 9/50\n",
      "6400/6400 [==============================] - 0s 16us/sample - loss: 0.1307 - accuracy: 0.8263 - mse: 0.1307 - val_loss: 0.1339 - val_accuracy: 0.8244 - val_mse: 0.1339\n",
      "Epoch 10/50\n",
      "6400/6400 [==============================] - 0s 13us/sample - loss: 0.1293 - accuracy: 0.8309 - mse: 0.1293 - val_loss: 0.1327 - val_accuracy: 0.8281 - val_mse: 0.1327\n",
      "Epoch 11/50\n",
      "6400/6400 [==============================] - 0s 13us/sample - loss: 0.1282 - accuracy: 0.8342 - mse: 0.1282 - val_loss: 0.1315 - val_accuracy: 0.8319 - val_mse: 0.1315\n",
      "Epoch 12/50\n",
      "6400/6400 [==============================] - 0s 13us/sample - loss: 0.1273 - accuracy: 0.8358 - mse: 0.1273 - val_loss: 0.1305 - val_accuracy: 0.8344 - val_mse: 0.1305\n",
      "Epoch 13/50\n",
      "6400/6400 [==============================] - 0s 14us/sample - loss: 0.1263 - accuracy: 0.8366 - mse: 0.1263 - val_loss: 0.1299 - val_accuracy: 0.8388 - val_mse: 0.1299\n",
      "Epoch 14/50\n",
      "6400/6400 [==============================] - 0s 13us/sample - loss: 0.1255 - accuracy: 0.8358 - mse: 0.1255 - val_loss: 0.1291 - val_accuracy: 0.8369 - val_mse: 0.1291\n",
      "Epoch 15/50\n",
      "6400/6400 [==============================] - 0s 15us/sample - loss: 0.1249 - accuracy: 0.8364 - mse: 0.1249 - val_loss: 0.1288 - val_accuracy: 0.8369 - val_mse: 0.1288\n",
      "Epoch 16/50\n",
      "6400/6400 [==============================] - 0s 13us/sample - loss: 0.1244 - accuracy: 0.8377 - mse: 0.1244 - val_loss: 0.1279 - val_accuracy: 0.8369 - val_mse: 0.1279\n",
      "Epoch 17/50\n",
      "6400/6400 [==============================] - 0s 13us/sample - loss: 0.1240 - accuracy: 0.8367 - mse: 0.1240 - val_loss: 0.1277 - val_accuracy: 0.8356 - val_mse: 0.1277\n",
      "Epoch 18/50\n",
      "6400/6400 [==============================] - 0s 13us/sample - loss: 0.1236 - accuracy: 0.8369 - mse: 0.1236 - val_loss: 0.1274 - val_accuracy: 0.8363 - val_mse: 0.1274\n",
      "Epoch 19/50\n",
      "6400/6400 [==============================] - 0s 14us/sample - loss: 0.1233 - accuracy: 0.8369 - mse: 0.1233 - val_loss: 0.1271 - val_accuracy: 0.8350 - val_mse: 0.1271\n",
      "Epoch 20/50\n",
      "6400/6400 [==============================] - 0s 14us/sample - loss: 0.1230 - accuracy: 0.8383 - mse: 0.1230 - val_loss: 0.1270 - val_accuracy: 0.8350 - val_mse: 0.1270\n",
      "Epoch 21/50\n",
      "6400/6400 [==============================] - 0s 13us/sample - loss: 0.1228 - accuracy: 0.8386 - mse: 0.1228 - val_loss: 0.1268 - val_accuracy: 0.8350 - val_mse: 0.1268\n",
      "Epoch 22/50\n",
      "6400/6400 [==============================] - 0s 13us/sample - loss: 0.1226 - accuracy: 0.8377 - mse: 0.1226 - val_loss: 0.1264 - val_accuracy: 0.8356 - val_mse: 0.1264\n",
      "Epoch 23/50\n",
      "6400/6400 [==============================] - 0s 13us/sample - loss: 0.1224 - accuracy: 0.8383 - mse: 0.1224 - val_loss: 0.1268 - val_accuracy: 0.8350 - val_mse: 0.1268\n",
      "Epoch 24/50\n",
      "6400/6400 [==============================] - 0s 13us/sample - loss: 0.1223 - accuracy: 0.8375 - mse: 0.1223 - val_loss: 0.1263 - val_accuracy: 0.8331 - val_mse: 0.1263\n",
      "Epoch 25/50\n",
      "6400/6400 [==============================] - 0s 13us/sample - loss: 0.1219 - accuracy: 0.8391 - mse: 0.1219 - val_loss: 0.1261 - val_accuracy: 0.8350 - val_mse: 0.1261\n",
      "Epoch 26/50\n",
      "6400/6400 [==============================] - 0s 13us/sample - loss: 0.1219 - accuracy: 0.8377 - mse: 0.1219 - val_loss: 0.1262 - val_accuracy: 0.8338 - val_mse: 0.1262\n",
      "Epoch 27/50\n",
      "6400/6400 [==============================] - 0s 13us/sample - loss: 0.1217 - accuracy: 0.8394 - mse: 0.1217 - val_loss: 0.1261 - val_accuracy: 0.8331 - val_mse: 0.1261\n",
      "Epoch 28/50\n",
      "6400/6400 [==============================] - 0s 13us/sample - loss: 0.1216 - accuracy: 0.8389 - mse: 0.1216 - val_loss: 0.1260 - val_accuracy: 0.8331 - val_mse: 0.1260\n",
      "Epoch 29/50\n",
      "6400/6400 [==============================] - 0s 13us/sample - loss: 0.1215 - accuracy: 0.8383 - mse: 0.1215 - val_loss: 0.1260 - val_accuracy: 0.8350 - val_mse: 0.1260\n",
      "Epoch 30/50\n",
      "6400/6400 [==============================] - 0s 13us/sample - loss: 0.1213 - accuracy: 0.8391 - mse: 0.1213 - val_loss: 0.1259 - val_accuracy: 0.8325 - val_mse: 0.1259\n",
      "Epoch 31/50\n",
      "6400/6400 [==============================] - 0s 13us/sample - loss: 0.1213 - accuracy: 0.8395 - mse: 0.1213 - val_loss: 0.1259 - val_accuracy: 0.8338 - val_mse: 0.1259\n",
      "Epoch 32/50\n",
      "6400/6400 [==============================] - 0s 15us/sample - loss: 0.1212 - accuracy: 0.8389 - mse: 0.1212 - val_loss: 0.1260 - val_accuracy: 0.8319 - val_mse: 0.1260\n",
      "Epoch 33/50\n",
      "6400/6400 [==============================] - 0s 16us/sample - loss: 0.1210 - accuracy: 0.8386 - mse: 0.1210 - val_loss: 0.1259 - val_accuracy: 0.8344 - val_mse: 0.1259\n",
      "Epoch 34/50\n",
      "6400/6400 [==============================] - 0s 13us/sample - loss: 0.1211 - accuracy: 0.8380 - mse: 0.1211 - val_loss: 0.1260 - val_accuracy: 0.8331 - val_mse: 0.1260\n",
      "Epoch 35/50\n",
      "6400/6400 [==============================] - 0s 13us/sample - loss: 0.1209 - accuracy: 0.8400 - mse: 0.1209 - val_loss: 0.1263 - val_accuracy: 0.8319 - val_mse: 0.1263\n",
      "Epoch 36/50\n",
      "6400/6400 [==============================] - 0s 13us/sample - loss: 0.1209 - accuracy: 0.8392 - mse: 0.1209 - val_loss: 0.1261 - val_accuracy: 0.8325 - val_mse: 0.1261\n",
      "Epoch 37/50\n",
      "6400/6400 [==============================] - 0s 12us/sample - loss: 0.1207 - accuracy: 0.8409 - mse: 0.1207 - val_loss: 0.1261 - val_accuracy: 0.8331 - val_mse: 0.1261\n",
      "Epoch 38/50\n",
      "6400/6400 [==============================] - 0s 13us/sample - loss: 0.1207 - accuracy: 0.8397 - mse: 0.1207 - val_loss: 0.1260 - val_accuracy: 0.8331 - val_mse: 0.1260\n",
      "Epoch 39/50\n",
      "6400/6400 [==============================] - 0s 12us/sample - loss: 0.1206 - accuracy: 0.8391 - mse: 0.1206 - val_loss: 0.1260 - val_accuracy: 0.8319 - val_mse: 0.1260\n",
      "Epoch 40/50\n",
      "6400/6400 [==============================] - 0s 12us/sample - loss: 0.1207 - accuracy: 0.8398 - mse: 0.1207 - val_loss: 0.1261 - val_accuracy: 0.8338 - val_mse: 0.1261\n",
      "Epoch 41/50\n",
      "6400/6400 [==============================] - 0s 13us/sample - loss: 0.1205 - accuracy: 0.8397 - mse: 0.1205 - val_loss: 0.1260 - val_accuracy: 0.8331 - val_mse: 0.1260\n",
      "Epoch 42/50\n",
      "6400/6400 [==============================] - 0s 13us/sample - loss: 0.1204 - accuracy: 0.8408 - mse: 0.1204 - val_loss: 0.1258 - val_accuracy: 0.8331 - val_mse: 0.1258\n",
      "Epoch 43/50\n",
      "6400/6400 [==============================] - 0s 13us/sample - loss: 0.1204 - accuracy: 0.8397 - mse: 0.1204 - val_loss: 0.1257 - val_accuracy: 0.8338 - val_mse: 0.1257\n",
      "Epoch 44/50\n",
      "6400/6400 [==============================] - 0s 13us/sample - loss: 0.1203 - accuracy: 0.8392 - mse: 0.1203 - val_loss: 0.1258 - val_accuracy: 0.8331 - val_mse: 0.1258\n",
      "Epoch 45/50\n",
      "6400/6400 [==============================] - 0s 13us/sample - loss: 0.1202 - accuracy: 0.8408 - mse: 0.1202 - val_loss: 0.1261 - val_accuracy: 0.8313 - val_mse: 0.1261\n",
      "Epoch 46/50\n"
     ]
    },
    {
     "name": "stdout",
     "output_type": "stream",
     "text": [
      "6400/6400 [==============================] - 0s 13us/sample - loss: 0.1202 - accuracy: 0.8405 - mse: 0.1202 - val_loss: 0.1258 - val_accuracy: 0.8350 - val_mse: 0.1258\n",
      "Epoch 47/50\n",
      "6400/6400 [==============================] - 0s 12us/sample - loss: 0.1202 - accuracy: 0.8397 - mse: 0.1202 - val_loss: 0.1258 - val_accuracy: 0.8344 - val_mse: 0.1258\n",
      "Epoch 48/50\n",
      "6400/6400 [==============================] - 0s 13us/sample - loss: 0.1201 - accuracy: 0.8381 - mse: 0.1201 - val_loss: 0.1261 - val_accuracy: 0.8338 - val_mse: 0.1261\n",
      "Epoch 49/50\n",
      "6400/6400 [==============================] - 0s 13us/sample - loss: 0.1201 - accuracy: 0.8409 - mse: 0.1201 - val_loss: 0.1260 - val_accuracy: 0.8325 - val_mse: 0.1260\n",
      "Epoch 50/50\n",
      "6400/6400 [==============================] - 0s 13us/sample - loss: 0.1200 - accuracy: 0.8403 - mse: 0.1200 - val_loss: 0.1259 - val_accuracy: 0.8325 - val_mse: 0.1259\n"
     ]
    }
   ],
   "source": [
    "history = model1.fit(X_train, y_train.values, batch_size = 100, validation_split = 0.2,  epochs = 50, verbose = 1)"
   ]
  },
  {
   "cell_type": "code",
   "execution_count": 6140,
   "metadata": {},
   "outputs": [
    {
     "data": {
      "text/plain": [
       "<matplotlib.legend.Legend at 0x1a40474c688>"
      ]
     },
     "execution_count": 6140,
     "metadata": {},
     "output_type": "execute_result"
    },
    {
     "data": {
      "image/png": "[encoded data removed]",
      "text/plain": [
       "<Figure size 432x288 with 1 Axes>"
      ]
     },
     "metadata": {
      "needs_background": "light"
     },
     "output_type": "display_data"
    }
   ],
   "source": [
    "\n",
    "\n",
    "hist  = pd.DataFrame(history.history)\n",
    "hist['epoch'] = history.epoch\n",
    "plt.plot(hist['mse'])\n",
    "plt.plot(hist['val_mse'])\n",
    "plt.legend((\"train\" , \"valid\") , loc =0)"
   ]
  },
  {
   "cell_type": "code",
   "execution_count": 6141,
   "metadata": {},
   "outputs": [
    {
     "name": "stdout",
     "output_type": "stream",
     "text": [
      "Accuracy: 0.834\n"
     ]
    }
   ],
   "source": [
    "results = model1.evaluate(X_test, y_test.values, verbose =0)\n",
    "accuracy = str(model1.evaluate(X_test,y_test.values, verbose=0)[1])\n",
    "print('Accuracy: '+ accuracy)"
   ]
  },
  {
   "cell_type": "code",
   "execution_count": 6142,
   "metadata": {},
   "outputs": [
    {
     "name": "stdout",
     "output_type": "stream",
     "text": [
      "['loss', 'accuracy', 'mse']\n",
      "[0.12618024319410323, 0.834, 0.12618025]\n"
     ]
    }
   ],
   "source": [
    "print(model1.metrics_names)\n",
    "print(results) "
   ]
  },
  {
   "cell_type": "markdown",
   "metadata": {},
   "source": [
    "### Model2 "
   ]
  },
  {
   "cell_type": "code",
   "execution_count": 6143,
   "metadata": {},
   "outputs": [],
   "source": [
    "model2 = Sequential()\n",
    "model2.add(Dense(10, input_shape = (10,), activation = 'relu', kernel_initializer='normal'))\n",
    "model2.add(Dense(10, activation = 'relu', kernel_initializer='normal'))\n",
    "model2.add(Dense(10, activation = 'relu', kernel_initializer='normal'))\n",
    "model2.add(Dense(1,  activation = 'sigmoid',kernel_initializer='normal'))"
   ]
  },
  {
   "cell_type": "code",
   "execution_count": 6144,
   "metadata": {},
   "outputs": [],
   "source": [
    "sgd = optimizers.Adam(lr = 0.001)"
   ]
  },
  {
   "cell_type": "code",
   "execution_count": 6145,
   "metadata": {},
   "outputs": [],
   "source": [
    "model2.compile(optimizer = sgd, loss = 'binary_crossentropy', metrics=['accuracy', 'mse'])"
   ]
  },
  {
   "cell_type": "code",
   "execution_count": 6146,
   "metadata": {},
   "outputs": [
    {
     "name": "stdout",
     "output_type": "stream",
     "text": [
      "Model: \"sequential_259\"\n",
      "_________________________________________________________________\n",
      "Layer (type)                 Output Shape              Param #   \n",
      "=================================================================\n",
      "dense_821 (Dense)            (None, 10)                110       \n",
      "_________________________________________________________________\n",
      "dense_822 (Dense)            (None, 10)                110       \n",
      "_________________________________________________________________\n",
      "dense_823 (Dense)            (None, 10)                110       \n",
      "_________________________________________________________________\n",
      "dense_824 (Dense)            (None, 1)                 11        \n",
      "=================================================================\n",
      "Total params: 341\n",
      "Trainable params: 341\n",
      "Non-trainable params: 0\n",
      "_________________________________________________________________\n"
     ]
    }
   ],
   "source": [
    "model2.summary()"
   ]
  },
  {
   "cell_type": "code",
   "execution_count": 6147,
   "metadata": {},
   "outputs": [
    {
     "name": "stdout",
     "output_type": "stream",
     "text": [
      "Train on 6400 samples, validate on 1600 samples\n",
      "Epoch 1/50\n",
      "6400/6400 [==============================] - 0s 72us/sample - loss: 0.6735 - accuracy: 0.7953 - mse: 0.2402 - val_loss: 0.6369 - val_accuracy: 0.7894 - val_mse: 0.2220\n",
      "Epoch 2/50\n",
      "6400/6400 [==============================] - 0s 14us/sample - loss: 0.5420 - accuracy: 0.7972 - mse: 0.1789 - val_loss: 0.4656 - val_accuracy: 0.7894 - val_mse: 0.1499\n",
      "Epoch 3/50\n",
      "6400/6400 [==============================] - 0s 14us/sample - loss: 0.4480 - accuracy: 0.7972 - mse: 0.1439 - val_loss: 0.4483 - val_accuracy: 0.7894 - val_mse: 0.1447\n",
      "Epoch 4/50\n",
      "6400/6400 [==============================] - 0s 14us/sample - loss: 0.4357 - accuracy: 0.7972 - mse: 0.1397 - val_loss: 0.4416 - val_accuracy: 0.7894 - val_mse: 0.1420\n",
      "Epoch 5/50\n",
      "6400/6400 [==============================] - 0s 14us/sample - loss: 0.4298 - accuracy: 0.7972 - mse: 0.1373 - val_loss: 0.4372 - val_accuracy: 0.7894 - val_mse: 0.1399\n",
      "Epoch 6/50\n",
      "6400/6400 [==============================] - 0s 15us/sample - loss: 0.4263 - accuracy: 0.7972 - mse: 0.1356 - val_loss: 0.4342 - val_accuracy: 0.7894 - val_mse: 0.1385\n",
      "Epoch 7/50\n",
      "6400/6400 [==============================] - 0s 15us/sample - loss: 0.4237 - accuracy: 0.7972 - mse: 0.1343 - val_loss: 0.4324 - val_accuracy: 0.7894 - val_mse: 0.1376\n",
      "Epoch 8/50\n",
      "6400/6400 [==============================] - 0s 14us/sample - loss: 0.4209 - accuracy: 0.8100 - mse: 0.1332 - val_loss: 0.4303 - val_accuracy: 0.8125 - val_mse: 0.1364\n",
      "Epoch 9/50\n",
      "6400/6400 [==============================] - 0s 13us/sample - loss: 0.4175 - accuracy: 0.8217 - mse: 0.1316 - val_loss: 0.4271 - val_accuracy: 0.8250 - val_mse: 0.1349\n",
      "Epoch 10/50\n",
      "6400/6400 [==============================] - 0s 14us/sample - loss: 0.4138 - accuracy: 0.8283 - mse: 0.1300 - val_loss: 0.4234 - val_accuracy: 0.8294 - val_mse: 0.1330\n",
      "Epoch 11/50\n",
      "6400/6400 [==============================] - 0s 14us/sample - loss: 0.4104 - accuracy: 0.8320 - mse: 0.1284 - val_loss: 0.4198 - val_accuracy: 0.8363 - val_mse: 0.1312\n",
      "Epoch 12/50\n",
      "6400/6400 [==============================] - 0s 14us/sample - loss: 0.4073 - accuracy: 0.8358 - mse: 0.1268 - val_loss: 0.4164 - val_accuracy: 0.8350 - val_mse: 0.1297\n",
      "Epoch 13/50\n",
      "6400/6400 [==============================] - 0s 14us/sample - loss: 0.4033 - accuracy: 0.8345 - mse: 0.1253 - val_loss: 0.4132 - val_accuracy: 0.8375 - val_mse: 0.1281\n",
      "Epoch 14/50\n",
      "6400/6400 [==============================] - 0s 14us/sample - loss: 0.4006 - accuracy: 0.8377 - mse: 0.1241 - val_loss: 0.4103 - val_accuracy: 0.8400 - val_mse: 0.1268\n",
      "Epoch 15/50\n",
      "6400/6400 [==============================] - 0s 14us/sample - loss: 0.3983 - accuracy: 0.8369 - mse: 0.1232 - val_loss: 0.4083 - val_accuracy: 0.8338 - val_mse: 0.1262\n",
      "Epoch 16/50\n",
      "6400/6400 [==============================] - 0s 13us/sample - loss: 0.3968 - accuracy: 0.8355 - mse: 0.1227 - val_loss: 0.4073 - val_accuracy: 0.8375 - val_mse: 0.1256\n",
      "Epoch 17/50\n",
      "6400/6400 [==============================] - 0s 15us/sample - loss: 0.3951 - accuracy: 0.8348 - mse: 0.1220 - val_loss: 0.4072 - val_accuracy: 0.8375 - val_mse: 0.1255\n",
      "Epoch 18/50\n",
      "6400/6400 [==============================] - 0s 15us/sample - loss: 0.3942 - accuracy: 0.8361 - mse: 0.1217 - val_loss: 0.4062 - val_accuracy: 0.8350 - val_mse: 0.1256\n",
      "Epoch 19/50\n",
      "6400/6400 [==============================] - 0s 13us/sample - loss: 0.3933 - accuracy: 0.8364 - mse: 0.1214 - val_loss: 0.4077 - val_accuracy: 0.8331 - val_mse: 0.1264\n",
      "Epoch 20/50\n",
      "6400/6400 [==============================] - 0s 14us/sample - loss: 0.3929 - accuracy: 0.8348 - mse: 0.1213 - val_loss: 0.4077 - val_accuracy: 0.8363 - val_mse: 0.1254\n",
      "Epoch 21/50\n",
      "6400/6400 [==============================] - 0s 13us/sample - loss: 0.3925 - accuracy: 0.8378 - mse: 0.1212 - val_loss: 0.4056 - val_accuracy: 0.8356 - val_mse: 0.1250\n",
      "Epoch 22/50\n",
      "6400/6400 [==============================] - 0s 14us/sample - loss: 0.3913 - accuracy: 0.8380 - mse: 0.1208 - val_loss: 0.4052 - val_accuracy: 0.8344 - val_mse: 0.1251\n",
      "Epoch 23/50\n",
      "6400/6400 [==============================] - 0s 14us/sample - loss: 0.3913 - accuracy: 0.8356 - mse: 0.1209 - val_loss: 0.4047 - val_accuracy: 0.8388 - val_mse: 0.1246\n",
      "Epoch 24/50\n",
      "6400/6400 [==============================] - 0s 13us/sample - loss: 0.3904 - accuracy: 0.8377 - mse: 0.1205 - val_loss: 0.4042 - val_accuracy: 0.8356 - val_mse: 0.1247\n",
      "Epoch 25/50\n",
      "6400/6400 [==============================] - 0s 13us/sample - loss: 0.3898 - accuracy: 0.8369 - mse: 0.1204 - val_loss: 0.4044 - val_accuracy: 0.8363 - val_mse: 0.1249\n",
      "Epoch 26/50\n",
      "6400/6400 [==============================] - 0s 13us/sample - loss: 0.3897 - accuracy: 0.8381 - mse: 0.1204 - val_loss: 0.4039 - val_accuracy: 0.8338 - val_mse: 0.1245\n",
      "Epoch 27/50\n",
      "6400/6400 [==============================] - 0s 14us/sample - loss: 0.3886 - accuracy: 0.8384 - mse: 0.1200 - val_loss: 0.4045 - val_accuracy: 0.8356 - val_mse: 0.1249\n",
      "Epoch 28/50\n",
      "6400/6400 [==============================] - 0s 14us/sample - loss: 0.3881 - accuracy: 0.8392 - mse: 0.1198 - val_loss: 0.4041 - val_accuracy: 0.8350 - val_mse: 0.1246\n",
      "Epoch 29/50\n",
      "6400/6400 [==============================] - 0s 14us/sample - loss: 0.3877 - accuracy: 0.8384 - mse: 0.1196 - val_loss: 0.4029 - val_accuracy: 0.8331 - val_mse: 0.1246\n",
      "Epoch 30/50\n",
      "6400/6400 [==============================] - 0s 14us/sample - loss: 0.3873 - accuracy: 0.8405 - mse: 0.1194 - val_loss: 0.4029 - val_accuracy: 0.8356 - val_mse: 0.1242\n",
      "Epoch 31/50\n",
      "6400/6400 [==============================] - 0s 15us/sample - loss: 0.3858 - accuracy: 0.8425 - mse: 0.1189 - val_loss: 0.4013 - val_accuracy: 0.8394 - val_mse: 0.1235\n",
      "Epoch 32/50\n",
      "6400/6400 [==============================] - 0s 15us/sample - loss: 0.3845 - accuracy: 0.8427 - mse: 0.1184 - val_loss: 0.3985 - val_accuracy: 0.8356 - val_mse: 0.1231\n",
      "Epoch 33/50\n",
      "6400/6400 [==============================] - 0s 13us/sample - loss: 0.3822 - accuracy: 0.8430 - mse: 0.1175 - val_loss: 0.3963 - val_accuracy: 0.8394 - val_mse: 0.1223\n",
      "Epoch 34/50\n",
      "6400/6400 [==============================] - 0s 14us/sample - loss: 0.3790 - accuracy: 0.8448 - mse: 0.1165 - val_loss: 0.3951 - val_accuracy: 0.8375 - val_mse: 0.1220\n",
      "Epoch 35/50\n",
      "6400/6400 [==============================] - 0s 13us/sample - loss: 0.3738 - accuracy: 0.8478 - mse: 0.1147 - val_loss: 0.3893 - val_accuracy: 0.8400 - val_mse: 0.1203\n",
      "Epoch 36/50\n",
      "6400/6400 [==============================] - 0s 14us/sample - loss: 0.3686 - accuracy: 0.8480 - mse: 0.1131 - val_loss: 0.3861 - val_accuracy: 0.8388 - val_mse: 0.1197\n",
      "Epoch 37/50\n",
      "6400/6400 [==============================] - 0s 13us/sample - loss: 0.3647 - accuracy: 0.8505 - mse: 0.1118 - val_loss: 0.3827 - val_accuracy: 0.8456 - val_mse: 0.1184\n",
      "Epoch 38/50\n",
      "6400/6400 [==============================] - 0s 13us/sample - loss: 0.3597 - accuracy: 0.8533 - mse: 0.1102 - val_loss: 0.3806 - val_accuracy: 0.8469 - val_mse: 0.1172\n",
      "Epoch 39/50\n",
      "6400/6400 [==============================] - 0s 13us/sample - loss: 0.3569 - accuracy: 0.8530 - mse: 0.1095 - val_loss: 0.3746 - val_accuracy: 0.8419 - val_mse: 0.1158\n",
      "Epoch 40/50\n",
      "6400/6400 [==============================] - 0s 14us/sample - loss: 0.3532 - accuracy: 0.8530 - mse: 0.1082 - val_loss: 0.3747 - val_accuracy: 0.8444 - val_mse: 0.1160\n",
      "Epoch 41/50\n",
      "6400/6400 [==============================] - 0s 13us/sample - loss: 0.3511 - accuracy: 0.8573 - mse: 0.1074 - val_loss: 0.3716 - val_accuracy: 0.8444 - val_mse: 0.1149\n",
      "Epoch 42/50\n",
      "6400/6400 [==============================] - 0s 13us/sample - loss: 0.3491 - accuracy: 0.8566 - mse: 0.1070 - val_loss: 0.3696 - val_accuracy: 0.8431 - val_mse: 0.1142\n",
      "Epoch 43/50\n",
      "6400/6400 [==============================] - 0s 13us/sample - loss: 0.3481 - accuracy: 0.8586 - mse: 0.1065 - val_loss: 0.3683 - val_accuracy: 0.8494 - val_mse: 0.1138\n",
      "Epoch 44/50\n",
      "6400/6400 [==============================] - 0s 13us/sample - loss: 0.3444 - accuracy: 0.8600 - mse: 0.1053 - val_loss: 0.3681 - val_accuracy: 0.8462 - val_mse: 0.1140\n",
      "Epoch 45/50\n",
      "6400/6400 [==============================] - 0s 14us/sample - loss: 0.3433 - accuracy: 0.8602 - mse: 0.1048 - val_loss: 0.3659 - val_accuracy: 0.8469 - val_mse: 0.1131\n",
      "Epoch 46/50\n"
     ]
    },
    {
     "name": "stdout",
     "output_type": "stream",
     "text": [
      "6400/6400 [==============================] - 0s 15us/sample - loss: 0.3422 - accuracy: 0.8614 - mse: 0.1047 - val_loss: 0.3660 - val_accuracy: 0.8481 - val_mse: 0.1131\n",
      "Epoch 47/50\n",
      "6400/6400 [==============================] - 0s 15us/sample - loss: 0.3406 - accuracy: 0.8602 - mse: 0.1043 - val_loss: 0.3670 - val_accuracy: 0.8438 - val_mse: 0.1139\n",
      "Epoch 48/50\n",
      "6400/6400 [==============================] - 0s 14us/sample - loss: 0.3390 - accuracy: 0.8602 - mse: 0.1036 - val_loss: 0.3657 - val_accuracy: 0.8494 - val_mse: 0.1134\n",
      "Epoch 49/50\n",
      "6400/6400 [==============================] - 0s 13us/sample - loss: 0.3378 - accuracy: 0.8639 - mse: 0.1032 - val_loss: 0.3651 - val_accuracy: 0.8506 - val_mse: 0.1128\n",
      "Epoch 50/50\n",
      "6400/6400 [==============================] - 0s 13us/sample - loss: 0.3373 - accuracy: 0.8622 - mse: 0.1030 - val_loss: 0.3631 - val_accuracy: 0.8481 - val_mse: 0.1116\n"
     ]
    }
   ],
   "source": [
    "history = model2.fit(X_train, y_train.values, batch_size = 100, validation_split = 0.2,  epochs =50, verbose = 1)"
   ]
  },
  {
   "cell_type": "code",
   "execution_count": 6148,
   "metadata": {},
   "outputs": [
    {
     "data": {
      "text/plain": [
       "<matplotlib.legend.Legend at 0x1a40613b608>"
      ]
     },
     "execution_count": 6148,
     "metadata": {},
     "output_type": "execute_result"
    },
    {
     "data": {
      "image/png": "[encoded data removed]",
      "text/plain": [
       "<Figure size 432x288 with 1 Axes>"
      ]
     },
     "metadata": {
      "needs_background": "light"
     },
     "output_type": "display_data"
    }
   ],
   "source": [
    "\n",
    "\n",
    "hist  = pd.DataFrame(history.history)\n",
    "hist['epoch'] = history.epoch\n",
    "plt.plot(hist['mse'])\n",
    "plt.plot(hist['val_mse'])\n",
    "plt.legend((\"train\" , \"valid\") , loc =0)"
   ]
  },
  {
   "cell_type": "code",
   "execution_count": 6149,
   "metadata": {},
   "outputs": [
    {
     "name": "stdout",
     "output_type": "stream",
     "text": [
      "Accuracy: 0.834\n"
     ]
    }
   ],
   "source": [
    "results = model2.evaluate(X_test, y_test.values, verbose =0)\n",
    "accuracy = str(model1.evaluate(X_test,y_test.values, verbose=0)[1])\n",
    "print('Accuracy: '+ accuracy)"
   ]
  },
  {
   "cell_type": "code",
   "execution_count": 6150,
   "metadata": {},
   "outputs": [
    {
     "name": "stdout",
     "output_type": "stream",
     "text": [
      "['loss', 'accuracy', 'mse']\n",
      "[0.3624837958812714, 0.8575, 0.11011941]\n"
     ]
    }
   ],
   "source": [
    "print(model2.metrics_names)\n",
    "print(results) "
   ]
  },
  {
   "cell_type": "markdown",
   "metadata": {},
   "source": [
    "### Predict the results using 0.5 as a threshold. Note that you need to first predict the probability and then predict classes using the given threshold (10points)"
   ]
  },
  {
   "cell_type": "code",
   "execution_count": 6151,
   "metadata": {},
   "outputs": [],
   "source": [
    "def predict_with_threshold(model, x, batch_size, verbose):\n",
    "    proba = model.predict(x, batch_size=batch_size, verbose=verbose)\n",
    "    return (proba >= 0.50).astype('int32')\n",
    "    \n"
   ]
  },
  {
   "cell_type": "code",
   "execution_count": 6152,
   "metadata": {},
   "outputs": [],
   "source": [
    "Y_pred1 = predict_with_threshold(model1 , X_test, batch_size=1000, verbose=0)\n",
    "Y_pred2 = predict_with_threshold(model2 , X_test, batch_size=1000, verbose=0)"
   ]
  },
  {
   "cell_type": "markdown",
   "metadata": {},
   "source": [
    "### Print the Accuracy score and confusion matrix (5points)"
   ]
  },
  {
   "cell_type": "markdown",
   "metadata": {},
   "source": [
    "### Model_1"
   ]
  },
  {
   "cell_type": "code",
   "execution_count": 6153,
   "metadata": {},
   "outputs": [
    {
     "name": "stdout",
     "output_type": "stream",
     "text": [
      "Recall_score: 0.35074626865671643\n",
      "Precision_score: 0.6650943396226415\n",
      "F-score: 0.4592833876221499\n"
     ]
    }
   ],
   "source": [
    "print('Recall_score: ' + str(recall_score(y_test.values,Y_pred1)))\n",
    "print('Precision_score: ' + str(precision_score(y_test.values, Y_pred1)))\n",
    "print('F-score: ' + str(f1_score(y_test.values,Y_pred1)))\n",
    "confusionMatrix = confusion_matrix(y_test.values,Y_pred1)\n"
   ]
  },
  {
   "cell_type": "code",
   "execution_count": 6154,
   "metadata": {},
   "outputs": [
    {
     "data": {
      "text/plain": [
       "<matplotlib.axes._subplots.AxesSubplot at 0x1a4066b03c8>"
      ]
     },
     "execution_count": 6154,
     "metadata": {},
     "output_type": "execute_result"
    },
    {
     "data": {
      "image/png": "[encoded data removed]",
      "text/plain": [
       "<Figure size 432x288 with 2 Axes>"
      ]
     },
     "metadata": {
      "needs_background": "light"
     },
     "output_type": "display_data"
    }
   ],
   "source": [
    "group_names = ['True Neg','False Pos','False Neg','True Pos']\n",
    "group_counts = [\"{0:0.0f}\".format(value) for value in confusionMatrix.flatten()]\n",
    "group_percentages = [\"{0:.2%}\".format(value) for value in confusionMatrix.flatten()/np.sum(confusionMatrix)]\n",
    "labels = [f\"{v1}\\n{v2}\\n{v3}\" for v1, v2, v3 in  zip(group_names,group_counts,group_percentages)]\n",
    "labels = np.asarray(labels).reshape(2,2)\n",
    "sns.heatmap(confusionMatrix, annot=labels, fmt='', cmap='Blues')"
   ]
  },
  {
   "cell_type": "markdown",
   "metadata": {},
   "source": [
    "### Model_2"
   ]
  },
  {
   "cell_type": "code",
   "execution_count": 6155,
   "metadata": {},
   "outputs": [
    {
     "name": "stdout",
     "output_type": "stream",
     "text": [
      "Recall_score: 0.4701492537313433\n",
      "Precision_score: 0.7241379310344828\n",
      "F-score: 0.5701357466063348\n"
     ]
    }
   ],
   "source": [
    "print('Recall_score: ' + str(recall_score(y_test.values,Y_pred2)))\n",
    "print('Precision_score: ' + str(precision_score(y_test.values, Y_pred2)))\n",
    "print('F-score: ' + str(f1_score(y_test.values,Y_pred2)))\n",
    "confusionMatrix = confusion_matrix(y_test.values,Y_pred2)"
   ]
  },
  {
   "cell_type": "code",
   "execution_count": 6156,
   "metadata": {},
   "outputs": [
    {
     "data": {
      "text/plain": [
       "<matplotlib.axes._subplots.AxesSubplot at 0x1a40674bfc8>"
      ]
     },
     "execution_count": 6156,
     "metadata": {},
     "output_type": "execute_result"
    },
    {
     "data": {
      "image/png": "[encoded data removed]",
      "text/plain": [
       "<Figure size 432x288 with 2 Axes>"
      ]
     },
     "metadata": {
      "needs_background": "light"
     },
     "output_type": "display_data"
    }
   ],
   "source": [
    "group_names = ['True Neg','False Pos','False Neg','True Pos']\n",
    "group_counts = [\"{0:0.0f}\".format(value) for value in confusionMatrix.flatten()]\n",
    "group_percentages = [\"{0:.2%}\".format(value) for value in confusionMatrix.flatten()/np.sum(confusionMatrix)]\n",
    "labels = [f\"{v1}\\n{v2}\\n{v3}\" for v1, v2, v3 in  zip(group_names,group_counts,group_percentages)]\n",
    "labels = np.asarray(labels).reshape(2,2)\n",
    "sns.heatmap(confusionMatrix, annot=labels, fmt='', cmap='Blues')"
   ]
  },
  {
   "cell_type": "markdown",
   "metadata": {},
   "source": [
    "#### Model 2 is giving a better F1 score than Model 1. In Model 2 we had introduced different set of hidden relu layers. Model 1 uses one relu and a tanh activation function hidden layers. Learning rates are same. "
   ]
  }
 ],
 "metadata": {
  "kernelspec": {
   "display_name": "Python 3",
   "language": "python",
   "name": "python3"
  },
  "language_info": {
   "codemirror_mode": {
    "name": "ipython",
    "version": 3
   },
   "file_extension": ".py",
   "mimetype": "text/x-python",
   "name": "python",
   "nbconvert_exporter": "python",
   "pygments_lexer": "ipython3",
   "version": "3.7.6"
  }
 },
 "nbformat": 4,
 "nbformat_minor": 4
}

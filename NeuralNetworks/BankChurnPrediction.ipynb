{
 "cells": [
  {
   "cell_type": "markdown",
   "metadata": {},
   "source": [
    "\n",
    "\n",
    "Problem Statement: Bank Churn Prediction\n",
    "-------------------------------------------------------------------------------------------------------------------------\n",
    "\n",
    "Objective:\n",
    "\n",
    "Given a Bank customer, build a neural network-based classifier that can determine whether they will leave or not.\n",
    "\n",
    "Context:\n",
    "\n",
    "Businesses like banks which provide service have to worry about the problem of 'Churn' i.e. customers leaving and joining another service provider. It is important to understand which aspects of the service influence a customer's decision in this regard. Management can concentrate efforts on improvement of service, keeping in mind these priorities.\n",
    "\n",
    "Data Description:\n",
    "\n",
    "The case study is from an open-source dataset from Kaggle. The dataset contains 10,000 sample points with 14 distinct features such as CustomerId, CreditScore, Geography, Gender, Age, Tenure, Balance etc. Link to the Kaggle project site: https://www.kaggle.com/barelydedicated/bank-customer-churn-modeling\n",
    "\n",
    "Points Distribution:\n",
    "\n",
    "The points distribution for this case is as follows:\n",
    "\n",
    "Read the dataset\n",
    "\n",
    "Drop the columns which are unique for all users like IDs (5points)\n",
    "\n",
    "Distinguish the features and target variable(5points)\n",
    "\n",
    "Divide the data set into training and test sets (5points)\n",
    "\n",
    "Normalize the train and test data (10points)\n",
    "\n",
    "Initialize & build the model.\n",
    "Identify the points of improvement and implement the same. \n",
    "Note that you need to demonstrate at least two models(the original and the improved one) and highlight the differences to complete this point. You can also demonstrate more models. (20points)\n",
    "\n",
    "Predict the results using 0.5 as a threshold. Note that you need to first predict the probability and then predict classes using the given threshold (10points)\n",
    "\n",
    "Print the Accuracy score and confusion matrix (5points)\n",
    "\n",
    "Happy Learning!!"
   ]
  },
  {
   "cell_type": "code",
   "execution_count": 3571,
   "metadata": {},
   "outputs": [
    {
     "name": "stdout",
     "output_type": "stream",
     "text": [
      "2.0.0\n"
     ]
    }
   ],
   "source": [
    "import tensorflow as tf\n",
    "print(tf.__version__)"
   ]
  },
  {
   "cell_type": "code",
   "execution_count": 3572,
   "metadata": {},
   "outputs": [],
   "source": [
    "import pandas as pd\n",
    "import numpy as np\n",
    "import seaborn as sns\n",
    "from sklearn.model_selection import train_test_split\n",
    "from sklearn.preprocessing import LabelEncoder\n",
    "import tensorflow as tf\n",
    "from sklearn import preprocessing\n",
    "from tensorflow.keras.models import Sequential\n",
    "from tensorflow.keras.layers import Dense, Dropout, BatchNormalization\n",
    "from sklearn.metrics import accuracy_score, confusion_matrix, precision_score, recall_score, f1_score, precision_recall_curve, auc\n",
    "import matplotlib.pyplot as plt\n",
    "from tensorflow.keras import optimizers"
   ]
  },
  {
   "cell_type": "code",
   "execution_count": 3573,
   "metadata": {},
   "outputs": [],
   "source": [
    "data = pd.read_csv(\"bank.csv\")"
   ]
  },
  {
   "cell_type": "code",
   "execution_count": 3574,
   "metadata": {},
   "outputs": [
    {
     "data": {
      "text/html": [
       "<div>\n",
       "<style scoped>\n",
       "    .dataframe tbody tr th:only-of-type {\n",
       "        vertical-align: middle;\n",
       "    }\n",
       "\n",
       "    .dataframe tbody tr th {\n",
       "        vertical-align: top;\n",
       "    }\n",
       "\n",
       "    .dataframe thead th {\n",
       "        text-align: right;\n",
       "    }\n",
       "</style>\n",
       "<table border=\"1\" class=\"dataframe\">\n",
       "  <thead>\n",
       "    <tr style=\"text-align: right;\">\n",
       "      <th></th>\n",
       "      <th>RowNumber</th>\n",
       "      <th>CustomerId</th>\n",
       "      <th>Surname</th>\n",
       "      <th>CreditScore</th>\n",
       "      <th>Geography</th>\n",
       "      <th>Gender</th>\n",
       "      <th>Age</th>\n",
       "      <th>Tenure</th>\n",
       "      <th>Balance</th>\n",
       "      <th>NumOfProducts</th>\n",
       "      <th>HasCrCard</th>\n",
       "      <th>IsActiveMember</th>\n",
       "      <th>EstimatedSalary</th>\n",
       "      <th>Exited</th>\n",
       "    </tr>\n",
       "  </thead>\n",
       "  <tbody>\n",
       "    <tr>\n",
       "      <th>0</th>\n",
       "      <td>1</td>\n",
       "      <td>15634602</td>\n",
       "      <td>Hargrave</td>\n",
       "      <td>619</td>\n",
       "      <td>France</td>\n",
       "      <td>Female</td>\n",
       "      <td>42</td>\n",
       "      <td>2</td>\n",
       "      <td>0.00</td>\n",
       "      <td>1</td>\n",
       "      <td>1</td>\n",
       "      <td>1</td>\n",
       "      <td>101348.88</td>\n",
       "      <td>1</td>\n",
       "    </tr>\n",
       "    <tr>\n",
       "      <th>1</th>\n",
       "      <td>2</td>\n",
       "      <td>15647311</td>\n",
       "      <td>Hill</td>\n",
       "      <td>608</td>\n",
       "      <td>Spain</td>\n",
       "      <td>Female</td>\n",
       "      <td>41</td>\n",
       "      <td>1</td>\n",
       "      <td>83807.86</td>\n",
       "      <td>1</td>\n",
       "      <td>0</td>\n",
       "      <td>1</td>\n",
       "      <td>112542.58</td>\n",
       "      <td>0</td>\n",
       "    </tr>\n",
       "    <tr>\n",
       "      <th>2</th>\n",
       "      <td>3</td>\n",
       "      <td>15619304</td>\n",
       "      <td>Onio</td>\n",
       "      <td>502</td>\n",
       "      <td>France</td>\n",
       "      <td>Female</td>\n",
       "      <td>42</td>\n",
       "      <td>8</td>\n",
       "      <td>159660.80</td>\n",
       "      <td>3</td>\n",
       "      <td>1</td>\n",
       "      <td>0</td>\n",
       "      <td>113931.57</td>\n",
       "      <td>1</td>\n",
       "    </tr>\n",
       "    <tr>\n",
       "      <th>3</th>\n",
       "      <td>4</td>\n",
       "      <td>15701354</td>\n",
       "      <td>Boni</td>\n",
       "      <td>699</td>\n",
       "      <td>France</td>\n",
       "      <td>Female</td>\n",
       "      <td>39</td>\n",
       "      <td>1</td>\n",
       "      <td>0.00</td>\n",
       "      <td>2</td>\n",
       "      <td>0</td>\n",
       "      <td>0</td>\n",
       "      <td>93826.63</td>\n",
       "      <td>0</td>\n",
       "    </tr>\n",
       "    <tr>\n",
       "      <th>4</th>\n",
       "      <td>5</td>\n",
       "      <td>15737888</td>\n",
       "      <td>Mitchell</td>\n",
       "      <td>850</td>\n",
       "      <td>Spain</td>\n",
       "      <td>Female</td>\n",
       "      <td>43</td>\n",
       "      <td>2</td>\n",
       "      <td>125510.82</td>\n",
       "      <td>1</td>\n",
       "      <td>1</td>\n",
       "      <td>1</td>\n",
       "      <td>79084.10</td>\n",
       "      <td>0</td>\n",
       "    </tr>\n",
       "  </tbody>\n",
       "</table>\n",
       "</div>"
      ],
      "text/plain": [
       "   RowNumber  CustomerId   Surname  CreditScore Geography  Gender  Age  \\\n",
       "0          1    15634602  Hargrave          619    France  Female   42   \n",
       "1          2    15647311      Hill          608     Spain  Female   41   \n",
       "2          3    15619304      Onio          502    France  Female   42   \n",
       "3          4    15701354      Boni          699    France  Female   39   \n",
       "4          5    15737888  Mitchell          850     Spain  Female   43   \n",
       "\n",
       "   Tenure    Balance  NumOfProducts  HasCrCard  IsActiveMember  \\\n",
       "0       2       0.00              1          1               1   \n",
       "1       1   83807.86              1          0               1   \n",
       "2       8  159660.80              3          1               0   \n",
       "3       1       0.00              2          0               0   \n",
       "4       2  125510.82              1          1               1   \n",
       "\n",
       "   EstimatedSalary  Exited  \n",
       "0        101348.88       1  \n",
       "1        112542.58       0  \n",
       "2        113931.57       1  \n",
       "3         93826.63       0  \n",
       "4         79084.10       0  "
      ]
     },
     "execution_count": 3574,
     "metadata": {},
     "output_type": "execute_result"
    }
   ],
   "source": [
    "data.head()"
   ]
  },
  {
   "cell_type": "code",
   "execution_count": 3575,
   "metadata": {},
   "outputs": [
    {
     "data": {
      "text/plain": [
       "(10000, 14)"
      ]
     },
     "execution_count": 3575,
     "metadata": {},
     "output_type": "execute_result"
    }
   ],
   "source": [
    "data.shape"
   ]
  },
  {
   "cell_type": "markdown",
   "metadata": {},
   "source": [
    "### Drop the columns which are unique for all users like IDs (5points)"
   ]
  },
  {
   "cell_type": "code",
   "execution_count": 3576,
   "metadata": {},
   "outputs": [
    {
     "data": {
      "text/html": [
       "<div>\n",
       "<style scoped>\n",
       "    .dataframe tbody tr th:only-of-type {\n",
       "        vertical-align: middle;\n",
       "    }\n",
       "\n",
       "    .dataframe tbody tr th {\n",
       "        vertical-align: top;\n",
       "    }\n",
       "\n",
       "    .dataframe thead th {\n",
       "        text-align: right;\n",
       "    }\n",
       "</style>\n",
       "<table border=\"1\" class=\"dataframe\">\n",
       "  <thead>\n",
       "    <tr style=\"text-align: right;\">\n",
       "      <th></th>\n",
       "      <th>CreditScore</th>\n",
       "      <th>Geography</th>\n",
       "      <th>Gender</th>\n",
       "      <th>Age</th>\n",
       "      <th>Tenure</th>\n",
       "      <th>Balance</th>\n",
       "      <th>NumOfProducts</th>\n",
       "      <th>HasCrCard</th>\n",
       "      <th>IsActiveMember</th>\n",
       "      <th>EstimatedSalary</th>\n",
       "      <th>Exited</th>\n",
       "    </tr>\n",
       "  </thead>\n",
       "  <tbody>\n",
       "    <tr>\n",
       "      <th>0</th>\n",
       "      <td>619</td>\n",
       "      <td>France</td>\n",
       "      <td>Female</td>\n",
       "      <td>42</td>\n",
       "      <td>2</td>\n",
       "      <td>0.00</td>\n",
       "      <td>1</td>\n",
       "      <td>1</td>\n",
       "      <td>1</td>\n",
       "      <td>101348.88</td>\n",
       "      <td>1</td>\n",
       "    </tr>\n",
       "    <tr>\n",
       "      <th>1</th>\n",
       "      <td>608</td>\n",
       "      <td>Spain</td>\n",
       "      <td>Female</td>\n",
       "      <td>41</td>\n",
       "      <td>1</td>\n",
       "      <td>83807.86</td>\n",
       "      <td>1</td>\n",
       "      <td>0</td>\n",
       "      <td>1</td>\n",
       "      <td>112542.58</td>\n",
       "      <td>0</td>\n",
       "    </tr>\n",
       "    <tr>\n",
       "      <th>2</th>\n",
       "      <td>502</td>\n",
       "      <td>France</td>\n",
       "      <td>Female</td>\n",
       "      <td>42</td>\n",
       "      <td>8</td>\n",
       "      <td>159660.80</td>\n",
       "      <td>3</td>\n",
       "      <td>1</td>\n",
       "      <td>0</td>\n",
       "      <td>113931.57</td>\n",
       "      <td>1</td>\n",
       "    </tr>\n",
       "    <tr>\n",
       "      <th>3</th>\n",
       "      <td>699</td>\n",
       "      <td>France</td>\n",
       "      <td>Female</td>\n",
       "      <td>39</td>\n",
       "      <td>1</td>\n",
       "      <td>0.00</td>\n",
       "      <td>2</td>\n",
       "      <td>0</td>\n",
       "      <td>0</td>\n",
       "      <td>93826.63</td>\n",
       "      <td>0</td>\n",
       "    </tr>\n",
       "    <tr>\n",
       "      <th>4</th>\n",
       "      <td>850</td>\n",
       "      <td>Spain</td>\n",
       "      <td>Female</td>\n",
       "      <td>43</td>\n",
       "      <td>2</td>\n",
       "      <td>125510.82</td>\n",
       "      <td>1</td>\n",
       "      <td>1</td>\n",
       "      <td>1</td>\n",
       "      <td>79084.10</td>\n",
       "      <td>0</td>\n",
       "    </tr>\n",
       "  </tbody>\n",
       "</table>\n",
       "</div>"
      ],
      "text/plain": [
       "   CreditScore Geography  Gender  Age  Tenure    Balance  NumOfProducts  \\\n",
       "0          619    France  Female   42       2       0.00              1   \n",
       "1          608     Spain  Female   41       1   83807.86              1   \n",
       "2          502    France  Female   42       8  159660.80              3   \n",
       "3          699    France  Female   39       1       0.00              2   \n",
       "4          850     Spain  Female   43       2  125510.82              1   \n",
       "\n",
       "   HasCrCard  IsActiveMember  EstimatedSalary  Exited  \n",
       "0          1               1        101348.88       1  \n",
       "1          0               1        112542.58       0  \n",
       "2          1               0        113931.57       1  \n",
       "3          0               0         93826.63       0  \n",
       "4          1               1         79084.10       0  "
      ]
     },
     "execution_count": 3576,
     "metadata": {},
     "output_type": "execute_result"
    }
   ],
   "source": [
    "data = data.drop([\"RowNumber\",\"CustomerId\",\"Surname\"], axis = 1)\n",
    "data.head()"
   ]
  },
  {
   "cell_type": "code",
   "execution_count": 3577,
   "metadata": {},
   "outputs": [
    {
     "data": {
      "text/plain": [
       "CreditScore        False\n",
       "Geography          False\n",
       "Gender             False\n",
       "Age                False\n",
       "Tenure             False\n",
       "Balance            False\n",
       "NumOfProducts      False\n",
       "HasCrCard          False\n",
       "IsActiveMember     False\n",
       "EstimatedSalary    False\n",
       "Exited             False\n",
       "dtype: bool"
      ]
     },
     "execution_count": 3577,
     "metadata": {},
     "output_type": "execute_result"
    }
   ],
   "source": [
    "data.isnull().any()"
   ]
  },
  {
   "cell_type": "code",
   "execution_count": 3578,
   "metadata": {},
   "outputs": [
    {
     "data": {
      "text/plain": [
       "CreditScore        False\n",
       "Geography          False\n",
       "Gender             False\n",
       "Age                False\n",
       "Tenure             False\n",
       "Balance            False\n",
       "NumOfProducts      False\n",
       "HasCrCard          False\n",
       "IsActiveMember     False\n",
       "EstimatedSalary    False\n",
       "Exited             False\n",
       "dtype: bool"
      ]
     },
     "execution_count": 3578,
     "metadata": {},
     "output_type": "execute_result"
    }
   ],
   "source": [
    "data.isna().any()"
   ]
  },
  {
   "cell_type": "markdown",
   "metadata": {},
   "source": [
    "### Distinguish the features and target variable(5points)\n",
    "Here 'exited' is the target variable and rest are independent variables."
   ]
  },
  {
   "cell_type": "code",
   "execution_count": 3579,
   "metadata": {},
   "outputs": [
    {
     "data": {
      "text/plain": [
       "array(['France', 'Spain', 'Germany'], dtype=object)"
      ]
     },
     "execution_count": 3579,
     "metadata": {},
     "output_type": "execute_result"
    }
   ],
   "source": [
    "data[\"Geography\"].unique()"
   ]
  },
  {
   "cell_type": "code",
   "execution_count": 3580,
   "metadata": {},
   "outputs": [
    {
     "data": {
      "text/html": [
       "<div>\n",
       "<style scoped>\n",
       "    .dataframe tbody tr th:only-of-type {\n",
       "        vertical-align: middle;\n",
       "    }\n",
       "\n",
       "    .dataframe tbody tr th {\n",
       "        vertical-align: top;\n",
       "    }\n",
       "\n",
       "    .dataframe thead th {\n",
       "        text-align: right;\n",
       "    }\n",
       "</style>\n",
       "<table border=\"1\" class=\"dataframe\">\n",
       "  <thead>\n",
       "    <tr style=\"text-align: right;\">\n",
       "      <th></th>\n",
       "      <th>CreditScore</th>\n",
       "      <th>Geography</th>\n",
       "      <th>Gender</th>\n",
       "      <th>Age</th>\n",
       "      <th>Tenure</th>\n",
       "      <th>Balance</th>\n",
       "      <th>NumOfProducts</th>\n",
       "      <th>HasCrCard</th>\n",
       "      <th>IsActiveMember</th>\n",
       "      <th>EstimatedSalary</th>\n",
       "      <th>Exited</th>\n",
       "    </tr>\n",
       "  </thead>\n",
       "  <tbody>\n",
       "    <tr>\n",
       "      <th>0</th>\n",
       "      <td>619</td>\n",
       "      <td>0</td>\n",
       "      <td>0</td>\n",
       "      <td>42</td>\n",
       "      <td>2</td>\n",
       "      <td>0.00</td>\n",
       "      <td>1</td>\n",
       "      <td>1</td>\n",
       "      <td>1</td>\n",
       "      <td>101348.88</td>\n",
       "      <td>1</td>\n",
       "    </tr>\n",
       "    <tr>\n",
       "      <th>1</th>\n",
       "      <td>608</td>\n",
       "      <td>2</td>\n",
       "      <td>0</td>\n",
       "      <td>41</td>\n",
       "      <td>1</td>\n",
       "      <td>83807.86</td>\n",
       "      <td>1</td>\n",
       "      <td>0</td>\n",
       "      <td>1</td>\n",
       "      <td>112542.58</td>\n",
       "      <td>0</td>\n",
       "    </tr>\n",
       "    <tr>\n",
       "      <th>2</th>\n",
       "      <td>502</td>\n",
       "      <td>0</td>\n",
       "      <td>0</td>\n",
       "      <td>42</td>\n",
       "      <td>8</td>\n",
       "      <td>159660.80</td>\n",
       "      <td>3</td>\n",
       "      <td>1</td>\n",
       "      <td>0</td>\n",
       "      <td>113931.57</td>\n",
       "      <td>1</td>\n",
       "    </tr>\n",
       "    <tr>\n",
       "      <th>3</th>\n",
       "      <td>699</td>\n",
       "      <td>0</td>\n",
       "      <td>0</td>\n",
       "      <td>39</td>\n",
       "      <td>1</td>\n",
       "      <td>0.00</td>\n",
       "      <td>2</td>\n",
       "      <td>0</td>\n",
       "      <td>0</td>\n",
       "      <td>93826.63</td>\n",
       "      <td>0</td>\n",
       "    </tr>\n",
       "    <tr>\n",
       "      <th>4</th>\n",
       "      <td>850</td>\n",
       "      <td>2</td>\n",
       "      <td>0</td>\n",
       "      <td>43</td>\n",
       "      <td>2</td>\n",
       "      <td>125510.82</td>\n",
       "      <td>1</td>\n",
       "      <td>1</td>\n",
       "      <td>1</td>\n",
       "      <td>79084.10</td>\n",
       "      <td>0</td>\n",
       "    </tr>\n",
       "    <tr>\n",
       "      <th>...</th>\n",
       "      <td>...</td>\n",
       "      <td>...</td>\n",
       "      <td>...</td>\n",
       "      <td>...</td>\n",
       "      <td>...</td>\n",
       "      <td>...</td>\n",
       "      <td>...</td>\n",
       "      <td>...</td>\n",
       "      <td>...</td>\n",
       "      <td>...</td>\n",
       "      <td>...</td>\n",
       "    </tr>\n",
       "    <tr>\n",
       "      <th>9995</th>\n",
       "      <td>771</td>\n",
       "      <td>0</td>\n",
       "      <td>1</td>\n",
       "      <td>39</td>\n",
       "      <td>5</td>\n",
       "      <td>0.00</td>\n",
       "      <td>2</td>\n",
       "      <td>1</td>\n",
       "      <td>0</td>\n",
       "      <td>96270.64</td>\n",
       "      <td>0</td>\n",
       "    </tr>\n",
       "    <tr>\n",
       "      <th>9996</th>\n",
       "      <td>516</td>\n",
       "      <td>0</td>\n",
       "      <td>1</td>\n",
       "      <td>35</td>\n",
       "      <td>10</td>\n",
       "      <td>57369.61</td>\n",
       "      <td>1</td>\n",
       "      <td>1</td>\n",
       "      <td>1</td>\n",
       "      <td>101699.77</td>\n",
       "      <td>0</td>\n",
       "    </tr>\n",
       "    <tr>\n",
       "      <th>9997</th>\n",
       "      <td>709</td>\n",
       "      <td>0</td>\n",
       "      <td>0</td>\n",
       "      <td>36</td>\n",
       "      <td>7</td>\n",
       "      <td>0.00</td>\n",
       "      <td>1</td>\n",
       "      <td>0</td>\n",
       "      <td>1</td>\n",
       "      <td>42085.58</td>\n",
       "      <td>1</td>\n",
       "    </tr>\n",
       "    <tr>\n",
       "      <th>9998</th>\n",
       "      <td>772</td>\n",
       "      <td>1</td>\n",
       "      <td>1</td>\n",
       "      <td>42</td>\n",
       "      <td>3</td>\n",
       "      <td>75075.31</td>\n",
       "      <td>2</td>\n",
       "      <td>1</td>\n",
       "      <td>0</td>\n",
       "      <td>92888.52</td>\n",
       "      <td>1</td>\n",
       "    </tr>\n",
       "    <tr>\n",
       "      <th>9999</th>\n",
       "      <td>792</td>\n",
       "      <td>0</td>\n",
       "      <td>0</td>\n",
       "      <td>28</td>\n",
       "      <td>4</td>\n",
       "      <td>130142.79</td>\n",
       "      <td>1</td>\n",
       "      <td>1</td>\n",
       "      <td>0</td>\n",
       "      <td>38190.78</td>\n",
       "      <td>0</td>\n",
       "    </tr>\n",
       "  </tbody>\n",
       "</table>\n",
       "<p>10000 rows × 11 columns</p>\n",
       "</div>"
      ],
      "text/plain": [
       "      CreditScore  Geography  Gender  Age  Tenure    Balance  NumOfProducts  \\\n",
       "0             619          0       0   42       2       0.00              1   \n",
       "1             608          2       0   41       1   83807.86              1   \n",
       "2             502          0       0   42       8  159660.80              3   \n",
       "3             699          0       0   39       1       0.00              2   \n",
       "4             850          2       0   43       2  125510.82              1   \n",
       "...           ...        ...     ...  ...     ...        ...            ...   \n",
       "9995          771          0       1   39       5       0.00              2   \n",
       "9996          516          0       1   35      10   57369.61              1   \n",
       "9997          709          0       0   36       7       0.00              1   \n",
       "9998          772          1       1   42       3   75075.31              2   \n",
       "9999          792          0       0   28       4  130142.79              1   \n",
       "\n",
       "      HasCrCard  IsActiveMember  EstimatedSalary  Exited  \n",
       "0             1               1        101348.88       1  \n",
       "1             0               1        112542.58       0  \n",
       "2             1               0        113931.57       1  \n",
       "3             0               0         93826.63       0  \n",
       "4             1               1         79084.10       0  \n",
       "...         ...             ...              ...     ...  \n",
       "9995          1               0         96270.64       0  \n",
       "9996          1               1        101699.77       0  \n",
       "9997          0               1         42085.58       1  \n",
       "9998          1               0         92888.52       1  \n",
       "9999          1               0         38190.78       0  \n",
       "\n",
       "[10000 rows x 11 columns]"
      ]
     },
     "execution_count": 3580,
     "metadata": {},
     "output_type": "execute_result"
    }
   ],
   "source": [
    "encoder = LabelEncoder()\n",
    "data[\"Geography\"] = encoder.fit_transform(data[\"Geography\"])\n",
    "data[\"Gender\"] = encoder.fit_transform(data[\"Gender\"])\n",
    "data"
   ]
  },
  {
   "cell_type": "code",
   "execution_count": 3581,
   "metadata": {},
   "outputs": [
    {
     "data": {
      "text/html": [
       "<div>\n",
       "<style scoped>\n",
       "    .dataframe tbody tr th:only-of-type {\n",
       "        vertical-align: middle;\n",
       "    }\n",
       "\n",
       "    .dataframe tbody tr th {\n",
       "        vertical-align: top;\n",
       "    }\n",
       "\n",
       "    .dataframe thead th {\n",
       "        text-align: right;\n",
       "    }\n",
       "</style>\n",
       "<table border=\"1\" class=\"dataframe\">\n",
       "  <thead>\n",
       "    <tr style=\"text-align: right;\">\n",
       "      <th></th>\n",
       "      <th>CreditScore</th>\n",
       "      <th>Geography</th>\n",
       "      <th>Gender</th>\n",
       "      <th>Age</th>\n",
       "      <th>Tenure</th>\n",
       "      <th>Balance</th>\n",
       "      <th>NumOfProducts</th>\n",
       "      <th>HasCrCard</th>\n",
       "      <th>IsActiveMember</th>\n",
       "      <th>EstimatedSalary</th>\n",
       "      <th>Exited</th>\n",
       "    </tr>\n",
       "  </thead>\n",
       "  <tbody>\n",
       "    <tr>\n",
       "      <th>count</th>\n",
       "      <td>10000.000000</td>\n",
       "      <td>10000.000000</td>\n",
       "      <td>10000.000000</td>\n",
       "      <td>10000.000000</td>\n",
       "      <td>10000.000000</td>\n",
       "      <td>10000.000000</td>\n",
       "      <td>10000.000000</td>\n",
       "      <td>10000.00000</td>\n",
       "      <td>10000.000000</td>\n",
       "      <td>10000.000000</td>\n",
       "      <td>10000.000000</td>\n",
       "    </tr>\n",
       "    <tr>\n",
       "      <th>mean</th>\n",
       "      <td>650.528800</td>\n",
       "      <td>0.746300</td>\n",
       "      <td>0.545700</td>\n",
       "      <td>38.921800</td>\n",
       "      <td>5.012800</td>\n",
       "      <td>76485.889288</td>\n",
       "      <td>1.530200</td>\n",
       "      <td>0.70550</td>\n",
       "      <td>0.515100</td>\n",
       "      <td>100090.239881</td>\n",
       "      <td>0.203700</td>\n",
       "    </tr>\n",
       "    <tr>\n",
       "      <th>std</th>\n",
       "      <td>96.653299</td>\n",
       "      <td>0.827529</td>\n",
       "      <td>0.497932</td>\n",
       "      <td>10.487806</td>\n",
       "      <td>2.892174</td>\n",
       "      <td>62397.405202</td>\n",
       "      <td>0.581654</td>\n",
       "      <td>0.45584</td>\n",
       "      <td>0.499797</td>\n",
       "      <td>57510.492818</td>\n",
       "      <td>0.402769</td>\n",
       "    </tr>\n",
       "    <tr>\n",
       "      <th>min</th>\n",
       "      <td>350.000000</td>\n",
       "      <td>0.000000</td>\n",
       "      <td>0.000000</td>\n",
       "      <td>18.000000</td>\n",
       "      <td>0.000000</td>\n",
       "      <td>0.000000</td>\n",
       "      <td>1.000000</td>\n",
       "      <td>0.00000</td>\n",
       "      <td>0.000000</td>\n",
       "      <td>11.580000</td>\n",
       "      <td>0.000000</td>\n",
       "    </tr>\n",
       "    <tr>\n",
       "      <th>25%</th>\n",
       "      <td>584.000000</td>\n",
       "      <td>0.000000</td>\n",
       "      <td>0.000000</td>\n",
       "      <td>32.000000</td>\n",
       "      <td>3.000000</td>\n",
       "      <td>0.000000</td>\n",
       "      <td>1.000000</td>\n",
       "      <td>0.00000</td>\n",
       "      <td>0.000000</td>\n",
       "      <td>51002.110000</td>\n",
       "      <td>0.000000</td>\n",
       "    </tr>\n",
       "    <tr>\n",
       "      <th>50%</th>\n",
       "      <td>652.000000</td>\n",
       "      <td>0.000000</td>\n",
       "      <td>1.000000</td>\n",
       "      <td>37.000000</td>\n",
       "      <td>5.000000</td>\n",
       "      <td>97198.540000</td>\n",
       "      <td>1.000000</td>\n",
       "      <td>1.00000</td>\n",
       "      <td>1.000000</td>\n",
       "      <td>100193.915000</td>\n",
       "      <td>0.000000</td>\n",
       "    </tr>\n",
       "    <tr>\n",
       "      <th>75%</th>\n",
       "      <td>718.000000</td>\n",
       "      <td>1.000000</td>\n",
       "      <td>1.000000</td>\n",
       "      <td>44.000000</td>\n",
       "      <td>7.000000</td>\n",
       "      <td>127644.240000</td>\n",
       "      <td>2.000000</td>\n",
       "      <td>1.00000</td>\n",
       "      <td>1.000000</td>\n",
       "      <td>149388.247500</td>\n",
       "      <td>0.000000</td>\n",
       "    </tr>\n",
       "    <tr>\n",
       "      <th>max</th>\n",
       "      <td>850.000000</td>\n",
       "      <td>2.000000</td>\n",
       "      <td>1.000000</td>\n",
       "      <td>92.000000</td>\n",
       "      <td>10.000000</td>\n",
       "      <td>250898.090000</td>\n",
       "      <td>4.000000</td>\n",
       "      <td>1.00000</td>\n",
       "      <td>1.000000</td>\n",
       "      <td>199992.480000</td>\n",
       "      <td>1.000000</td>\n",
       "    </tr>\n",
       "  </tbody>\n",
       "</table>\n",
       "</div>"
      ],
      "text/plain": [
       "        CreditScore     Geography        Gender           Age        Tenure  \\\n",
       "count  10000.000000  10000.000000  10000.000000  10000.000000  10000.000000   \n",
       "mean     650.528800      0.746300      0.545700     38.921800      5.012800   \n",
       "std       96.653299      0.827529      0.497932     10.487806      2.892174   \n",
       "min      350.000000      0.000000      0.000000     18.000000      0.000000   \n",
       "25%      584.000000      0.000000      0.000000     32.000000      3.000000   \n",
       "50%      652.000000      0.000000      1.000000     37.000000      5.000000   \n",
       "75%      718.000000      1.000000      1.000000     44.000000      7.000000   \n",
       "max      850.000000      2.000000      1.000000     92.000000     10.000000   \n",
       "\n",
       "             Balance  NumOfProducts    HasCrCard  IsActiveMember  \\\n",
       "count   10000.000000   10000.000000  10000.00000    10000.000000   \n",
       "mean    76485.889288       1.530200      0.70550        0.515100   \n",
       "std     62397.405202       0.581654      0.45584        0.499797   \n",
       "min         0.000000       1.000000      0.00000        0.000000   \n",
       "25%         0.000000       1.000000      0.00000        0.000000   \n",
       "50%     97198.540000       1.000000      1.00000        1.000000   \n",
       "75%    127644.240000       2.000000      1.00000        1.000000   \n",
       "max    250898.090000       4.000000      1.00000        1.000000   \n",
       "\n",
       "       EstimatedSalary        Exited  \n",
       "count     10000.000000  10000.000000  \n",
       "mean     100090.239881      0.203700  \n",
       "std       57510.492818      0.402769  \n",
       "min          11.580000      0.000000  \n",
       "25%       51002.110000      0.000000  \n",
       "50%      100193.915000      0.000000  \n",
       "75%      149388.247500      0.000000  \n",
       "max      199992.480000      1.000000  "
      ]
     },
     "execution_count": 3581,
     "metadata": {},
     "output_type": "execute_result"
    }
   ],
   "source": [
    "data.describe()"
   ]
  },
  {
   "cell_type": "code",
   "execution_count": 3582,
   "metadata": {},
   "outputs": [
    {
     "data": {
      "text/plain": [
       "<matplotlib.axes._subplots.AxesSubplot at 0x1a39b111088>"
      ]
     },
     "execution_count": 3582,
     "metadata": {},
     "output_type": "execute_result"
    },
    {
     "data": {
      "image/png": "[encoded data removed]",
      "text/plain": [
       "<Figure size 432x288 with 1 Axes>"
      ]
     },
     "metadata": {
      "needs_background": "light"
     },
     "output_type": "display_data"
    }
   ],
   "source": [
    "sns.distplot(data['Balance'])"
   ]
  },
  {
   "cell_type": "code",
   "execution_count": 3583,
   "metadata": {},
   "outputs": [
    {
     "data": {
      "text/plain": [
       "CreditScore        3617\n",
       "Geography          3617\n",
       "Gender             3617\n",
       "Age                3617\n",
       "Tenure             3617\n",
       "Balance            3617\n",
       "NumOfProducts      3617\n",
       "HasCrCard          3617\n",
       "IsActiveMember     3617\n",
       "EstimatedSalary    3617\n",
       "Exited             3617\n",
       "dtype: int64"
      ]
     },
     "execution_count": 3583,
     "metadata": {},
     "output_type": "execute_result"
    }
   ],
   "source": [
    "data[data['Balance']==0].count()"
   ]
  },
  {
   "cell_type": "code",
   "execution_count": 3584,
   "metadata": {},
   "outputs": [
    {
     "data": {
      "image/png": "[encoded data removed]",
      "text/plain": [
       "<Figure size 1152x864 with 2 Axes>"
      ]
     },
     "metadata": {
      "needs_background": "light"
     },
     "output_type": "display_data"
    }
   ],
   "source": [
    "\n",
    "fig,axis = plt.subplots(figsize=(16,12))\n",
    "axis = sns.heatmap(data=data.corr(method='pearson',min_periods=1),annot=True,cmap=\"YlGnBu\")"
   ]
  },
  {
   "cell_type": "markdown",
   "metadata": {},
   "source": [
    "### Divide the data set into training and test sets (5points)"
   ]
  },
  {
   "cell_type": "code",
   "execution_count": 3585,
   "metadata": {},
   "outputs": [],
   "source": [
    "X_data = data.iloc[:, :-1]\n",
    "y_data = data.iloc[:, -1]\n",
    "X_train, X_test, y_train, y_test = train_test_split(X_data, y_data, test_size = 0.3, random_state = 7)"
   ]
  },
  {
   "cell_type": "markdown",
   "metadata": {},
   "source": [
    "### Normalize the train and test data (10points)"
   ]
  },
  {
   "cell_type": "code",
   "execution_count": 3586,
   "metadata": {},
   "outputs": [
    {
     "name": "stdout",
     "output_type": "stream",
     "text": [
      "(7000, 10)\n",
      "(3000, 10)\n",
      "(7000,)\n",
      "(3000,)\n"
     ]
    },
    {
     "data": {
      "text/plain": [
       "array([[4.10249687e-03, 1.14435059e-05, 5.72175295e-06, ...,\n",
       "        0.00000000e+00, 0.00000000e+00, 9.99991564e-01],\n",
       "       [4.40738138e-03, 0.00000000e+00, 0.00000000e+00, ...,\n",
       "        6.51016452e-06, 6.51016452e-06, 9.99990176e-01],\n",
       "       [6.73614534e-03, 0.00000000e+00, 0.00000000e+00, ...,\n",
       "        0.00000000e+00, 0.00000000e+00, 9.99977271e-01],\n",
       "       ...,\n",
       "       [4.16421865e-02, 0.00000000e+00, 6.07028958e-05, ...,\n",
       "        0.00000000e+00, 6.07028958e-05, 9.99131423e-01],\n",
       "       [3.31228986e-03, 0.00000000e+00, 0.00000000e+00, ...,\n",
       "        6.88625750e-06, 0.00000000e+00, 9.99994493e-01],\n",
       "       [7.75747042e-02, 0.00000000e+00, 1.13082659e-04, ...,\n",
       "        1.13082659e-04, 0.00000000e+00, 9.96978564e-01]])"
      ]
     },
     "execution_count": 3586,
     "metadata": {},
     "output_type": "execute_result"
    }
   ],
   "source": [
    "X_train = preprocessing.normalize(X_train)\n",
    "X_test = preprocessing.normalize(X_test)\n",
    "print(X_train.shape)\n",
    "print(X_test.shape)\n",
    "print(y_train.shape)\n",
    "print(y_test.shape)\n",
    "X_test"
   ]
  },
  {
   "cell_type": "markdown",
   "metadata": {},
   "source": [
    "### Initialize & build the model. Identify the points of improvement and implement the same. Note that you need to demonstrate at least two models(the original and the improved one) and highlight the differences to complete this point. You can also demonstrate more models. (20points)"
   ]
  },
  {
   "cell_type": "markdown",
   "metadata": {},
   "source": [
    "### Model 1"
   ]
  },
  {
   "cell_type": "code",
   "execution_count": 3587,
   "metadata": {},
   "outputs": [],
   "source": [
    "model1 = Sequential()\n",
    "model1.add(Dense(20, input_shape = (10,), activation = 'relu', kernel_initializer='uniform'))\n",
    "model1.add(Dense(20, activation = 'relu', kernel_initializer='uniform'))\n",
    "model1.add(Dense(10, activation = 'tanh', kernel_initializer='uniform'))\n",
    "model1.add(Dense(1,  activation = 'sigmoid',kernel_initializer='uniform'))"
   ]
  },
  {
   "cell_type": "code",
   "execution_count": 3588,
   "metadata": {},
   "outputs": [],
   "source": [
    "sgd = optimizers.Adam(lr = 0.0001)"
   ]
  },
  {
   "cell_type": "code",
   "execution_count": 3589,
   "metadata": {},
   "outputs": [],
   "source": [
    "model1.compile(optimizer = sgd, loss = 'mean_squared_error', metrics=['accuracy', 'mse'])"
   ]
  },
  {
   "cell_type": "code",
   "execution_count": 3590,
   "metadata": {},
   "outputs": [
    {
     "name": "stdout",
     "output_type": "stream",
     "text": [
      "Model: \"sequential_120\"\n",
      "_________________________________________________________________\n",
      "Layer (type)                 Output Shape              Param #   \n",
      "=================================================================\n",
      "dense_376 (Dense)            (None, 20)                220       \n",
      "_________________________________________________________________\n",
      "dense_377 (Dense)            (None, 20)                420       \n",
      "_________________________________________________________________\n",
      "dense_378 (Dense)            (None, 10)                210       \n",
      "_________________________________________________________________\n",
      "dense_379 (Dense)            (None, 1)                 11        \n",
      "=================================================================\n",
      "Total params: 861\n",
      "Trainable params: 861\n",
      "Non-trainable params: 0\n",
      "_________________________________________________________________\n"
     ]
    }
   ],
   "source": [
    "model1.summary()"
   ]
  },
  {
   "cell_type": "code",
   "execution_count": 3591,
   "metadata": {},
   "outputs": [
    {
     "name": "stdout",
     "output_type": "stream",
     "text": [
      "Train on 5600 samples, validate on 1400 samples\n",
      "Epoch 1/50\n",
      "5600/5600 [==============================] - 0s 74us/sample - loss: 0.2495 - accuracy: 0.7970 - mse: 0.2495 - val_loss: 0.2489 - val_accuracy: 0.7893 - val_mse: 0.2489\n",
      "Epoch 2/50\n",
      "5600/5600 [==============================] - 0s 15us/sample - loss: 0.2481 - accuracy: 0.7970 - mse: 0.2481 - val_loss: 0.2474 - val_accuracy: 0.7893 - val_mse: 0.2474\n",
      "Epoch 3/50\n",
      "5600/5600 [==============================] - 0s 15us/sample - loss: 0.2463 - accuracy: 0.7970 - mse: 0.2463 - val_loss: 0.2451 - val_accuracy: 0.7893 - val_mse: 0.2451\n",
      "Epoch 4/50\n",
      "5600/5600 [==============================] - 0s 15us/sample - loss: 0.2432 - accuracy: 0.7970 - mse: 0.2432 - val_loss: 0.2413 - val_accuracy: 0.7893 - val_mse: 0.2413\n",
      "Epoch 5/50\n",
      "5600/5600 [==============================] - 0s 15us/sample - loss: 0.2383 - accuracy: 0.7970 - mse: 0.2383 - val_loss: 0.2353 - val_accuracy: 0.7893 - val_mse: 0.2353\n",
      "Epoch 6/50\n",
      "5600/5600 [==============================] - 0s 16us/sample - loss: 0.2306 - accuracy: 0.7970 - mse: 0.2306 - val_loss: 0.2263 - val_accuracy: 0.7893 - val_mse: 0.2263\n",
      "Epoch 7/50\n",
      "5600/5600 [==============================] - 0s 16us/sample - loss: 0.2201 - accuracy: 0.7970 - mse: 0.2201 - val_loss: 0.2147 - val_accuracy: 0.7893 - val_mse: 0.2147\n",
      "Epoch 8/50\n",
      "5600/5600 [==============================] - 0s 17us/sample - loss: 0.2074 - accuracy: 0.7970 - mse: 0.2074 - val_loss: 0.2020 - val_accuracy: 0.7893 - val_mse: 0.2020\n",
      "Epoch 9/50\n",
      "5600/5600 [==============================] - 0s 14us/sample - loss: 0.1945 - accuracy: 0.7970 - mse: 0.1945 - val_loss: 0.1905 - val_accuracy: 0.7893 - val_mse: 0.1905\n",
      "Epoch 10/50\n",
      "5600/5600 [==============================] - 0s 15us/sample - loss: 0.1838 - accuracy: 0.7970 - mse: 0.1838 - val_loss: 0.1816 - val_accuracy: 0.7893 - val_mse: 0.1816\n",
      "Epoch 11/50\n",
      "5600/5600 [==============================] - 0s 14us/sample - loss: 0.1760 - accuracy: 0.7970 - mse: 0.1760 - val_loss: 0.1757 - val_accuracy: 0.7893 - val_mse: 0.1757\n",
      "Epoch 12/50\n",
      "5600/5600 [==============================] - 0s 15us/sample - loss: 0.1708 - accuracy: 0.7970 - mse: 0.1708 - val_loss: 0.1719 - val_accuracy: 0.7893 - val_mse: 0.1719\n",
      "Epoch 13/50\n",
      "5600/5600 [==============================] - 0s 15us/sample - loss: 0.1676 - accuracy: 0.7970 - mse: 0.1676 - val_loss: 0.1696 - val_accuracy: 0.7893 - val_mse: 0.1696\n",
      "Epoch 14/50\n",
      "5600/5600 [==============================] - 0s 15us/sample - loss: 0.1655 - accuracy: 0.7970 - mse: 0.1655 - val_loss: 0.1683 - val_accuracy: 0.7893 - val_mse: 0.1683\n",
      "Epoch 15/50\n",
      "5600/5600 [==============================] - 0s 14us/sample - loss: 0.1643 - accuracy: 0.7970 - mse: 0.1643 - val_loss: 0.1675 - val_accuracy: 0.7893 - val_mse: 0.1675\n",
      "Epoch 16/50\n",
      "5600/5600 [==============================] - 0s 15us/sample - loss: 0.1635 - accuracy: 0.7970 - mse: 0.1635 - val_loss: 0.1670 - val_accuracy: 0.7893 - val_mse: 0.1670\n",
      "Epoch 17/50\n",
      "5600/5600 [==============================] - ETA: 0s - loss: 0.1618 - accuracy: 0.7991 - mse: 0.16 - 0s 14us/sample - loss: 0.1630 - accuracy: 0.7970 - mse: 0.1630 - val_loss: 0.1667 - val_accuracy: 0.7893 - val_mse: 0.1667\n",
      "Epoch 18/50\n",
      "5600/5600 [==============================] - 0s 15us/sample - loss: 0.1626 - accuracy: 0.7970 - mse: 0.1626 - val_loss: 0.1665 - val_accuracy: 0.7893 - val_mse: 0.1665\n",
      "Epoch 19/50\n",
      "5600/5600 [==============================] - 0s 16us/sample - loss: 0.1624 - accuracy: 0.7970 - mse: 0.1624 - val_loss: 0.1664 - val_accuracy: 0.7893 - val_mse: 0.1664\n",
      "Epoch 20/50\n",
      "5600/5600 [==============================] - 0s 16us/sample - loss: 0.1623 - accuracy: 0.7970 - mse: 0.1623 - val_loss: 0.1663 - val_accuracy: 0.7893 - val_mse: 0.1663\n",
      "Epoch 21/50\n",
      "5600/5600 [==============================] - 0s 17us/sample - loss: 0.1622 - accuracy: 0.7970 - mse: 0.1622 - val_loss: 0.1663 - val_accuracy: 0.7893 - val_mse: 0.1663\n",
      "Epoch 22/50\n",
      "5600/5600 [==============================] - 0s 16us/sample - loss: 0.1621 - accuracy: 0.7970 - mse: 0.1621 - val_loss: 0.1662 - val_accuracy: 0.7893 - val_mse: 0.1662\n",
      "Epoch 23/50\n",
      "5600/5600 [==============================] - 0s 15us/sample - loss: 0.1620 - accuracy: 0.7970 - mse: 0.1620 - val_loss: 0.1662 - val_accuracy: 0.7893 - val_mse: 0.1662\n",
      "Epoch 24/50\n",
      "5600/5600 [==============================] - 0s 15us/sample - loss: 0.1620 - accuracy: 0.7970 - mse: 0.1620 - val_loss: 0.1662 - val_accuracy: 0.7893 - val_mse: 0.1662\n",
      "Epoch 25/50\n",
      "5600/5600 [==============================] - 0s 16us/sample - loss: 0.1620 - accuracy: 0.7970 - mse: 0.1620 - val_loss: 0.1662 - val_accuracy: 0.7893 - val_mse: 0.1662\n",
      "Epoch 26/50\n",
      "5600/5600 [==============================] - 0s 15us/sample - loss: 0.1619 - accuracy: 0.7970 - mse: 0.1619 - val_loss: 0.1662 - val_accuracy: 0.7893 - val_mse: 0.1662\n",
      "Epoch 27/50\n",
      "5600/5600 [==============================] - 0s 15us/sample - loss: 0.1619 - accuracy: 0.7970 - mse: 0.1619 - val_loss: 0.1662 - val_accuracy: 0.7893 - val_mse: 0.1662\n",
      "Epoch 28/50\n",
      "5600/5600 [==============================] - 0s 14us/sample - loss: 0.1619 - accuracy: 0.7970 - mse: 0.1619 - val_loss: 0.1661 - val_accuracy: 0.7893 - val_mse: 0.1661\n",
      "Epoch 29/50\n",
      "5600/5600 [==============================] - 0s 15us/sample - loss: 0.1619 - accuracy: 0.7970 - mse: 0.1619 - val_loss: 0.1661 - val_accuracy: 0.7893 - val_mse: 0.1661\n",
      "Epoch 30/50\n",
      "5600/5600 [==============================] - 0s 16us/sample - loss: 0.1619 - accuracy: 0.7970 - mse: 0.1619 - val_loss: 0.1661 - val_accuracy: 0.7893 - val_mse: 0.1661\n",
      "Epoch 31/50\n",
      "5600/5600 [==============================] - 0s 15us/sample - loss: 0.1618 - accuracy: 0.7970 - mse: 0.1618 - val_loss: 0.1661 - val_accuracy: 0.7893 - val_mse: 0.1661\n",
      "Epoch 32/50\n",
      "5600/5600 [==============================] - 0s 16us/sample - loss: 0.1618 - accuracy: 0.7970 - mse: 0.1618 - val_loss: 0.1660 - val_accuracy: 0.7893 - val_mse: 0.1660\n",
      "Epoch 33/50\n",
      "5600/5600 [==============================] - 0s 14us/sample - loss: 0.1618 - accuracy: 0.7970 - mse: 0.1618 - val_loss: 0.1660 - val_accuracy: 0.7893 - val_mse: 0.1660\n",
      "Epoch 34/50\n",
      "5600/5600 [==============================] - 0s 15us/sample - loss: 0.1618 - accuracy: 0.7970 - mse: 0.1618 - val_loss: 0.1660 - val_accuracy: 0.7893 - val_mse: 0.1660\n",
      "Epoch 35/50\n",
      "5600/5600 [==============================] - 0s 16us/sample - loss: 0.1618 - accuracy: 0.7970 - mse: 0.1618 - val_loss: 0.1660 - val_accuracy: 0.7893 - val_mse: 0.1660\n",
      "Epoch 36/50\n",
      "5600/5600 [==============================] - 0s 15us/sample - loss: 0.1618 - accuracy: 0.7970 - mse: 0.1618 - val_loss: 0.1660 - val_accuracy: 0.7893 - val_mse: 0.1660\n",
      "Epoch 37/50\n",
      "5600/5600 [==============================] - 0s 15us/sample - loss: 0.1617 - accuracy: 0.7970 - mse: 0.1617 - val_loss: 0.1659 - val_accuracy: 0.7893 - val_mse: 0.1659\n",
      "Epoch 38/50\n",
      "5600/5600 [==============================] - 0s 14us/sample - loss: 0.1617 - accuracy: 0.7970 - mse: 0.1617 - val_loss: 0.1659 - val_accuracy: 0.7893 - val_mse: 0.1659\n",
      "Epoch 39/50\n",
      "5600/5600 [==============================] - 0s 14us/sample - loss: 0.1617 - accuracy: 0.7970 - mse: 0.1617 - val_loss: 0.1659 - val_accuracy: 0.7893 - val_mse: 0.1659\n",
      "Epoch 40/50\n",
      "5600/5600 [==============================] - 0s 14us/sample - loss: 0.1617 - accuracy: 0.7970 - mse: 0.1617 - val_loss: 0.1658 - val_accuracy: 0.7893 - val_mse: 0.1658\n",
      "Epoch 41/50\n",
      "5600/5600 [==============================] - 0s 14us/sample - loss: 0.1617 - accuracy: 0.7970 - mse: 0.1617 - val_loss: 0.1658 - val_accuracy: 0.7893 - val_mse: 0.1658\n",
      "Epoch 42/50\n",
      "5600/5600 [==============================] - 0s 16us/sample - loss: 0.1616 - accuracy: 0.7970 - mse: 0.1616 - val_loss: 0.1658 - val_accuracy: 0.7893 - val_mse: 0.1658\n",
      "Epoch 43/50\n",
      "5600/5600 [==============================] - 0s 14us/sample - loss: 0.1616 - accuracy: 0.7970 - mse: 0.1616 - val_loss: 0.1658 - val_accuracy: 0.7893 - val_mse: 0.1658\n",
      "Epoch 44/50\n",
      "5600/5600 [==============================] - 0s 15us/sample - loss: 0.1616 - accuracy: 0.7970 - mse: 0.1616 - val_loss: 0.1657 - val_accuracy: 0.7893 - val_mse: 0.1657\n",
      "Epoch 45/50\n",
      "5600/5600 [==============================] - 0s 14us/sample - loss: 0.1616 - accuracy: 0.7970 - mse: 0.1616 - val_loss: 0.1657 - val_accuracy: 0.7893 - val_mse: 0.1657\n"
     ]
    },
    {
     "name": "stdout",
     "output_type": "stream",
     "text": [
      "Epoch 46/50\n",
      "5600/5600 [==============================] - 0s 14us/sample - loss: 0.1616 - accuracy: 0.7970 - mse: 0.1616 - val_loss: 0.1657 - val_accuracy: 0.7893 - val_mse: 0.1657\n",
      "Epoch 47/50\n",
      "5600/5600 [==============================] - 0s 14us/sample - loss: 0.1616 - accuracy: 0.7970 - mse: 0.1616 - val_loss: 0.1657 - val_accuracy: 0.7893 - val_mse: 0.1657\n",
      "Epoch 48/50\n",
      "5600/5600 [==============================] - ETA: 0s - loss: 0.1621 - accuracy: 0.7960 - mse: 0.16 - 0s 14us/sample - loss: 0.1615 - accuracy: 0.7970 - mse: 0.1615 - val_loss: 0.1656 - val_accuracy: 0.7893 - val_mse: 0.1656\n",
      "Epoch 49/50\n",
      "5600/5600 [==============================] - 0s 14us/sample - loss: 0.1615 - accuracy: 0.7970 - mse: 0.1615 - val_loss: 0.1656 - val_accuracy: 0.7893 - val_mse: 0.1656\n",
      "Epoch 50/50\n",
      "5600/5600 [==============================] - 0s 14us/sample - loss: 0.1615 - accuracy: 0.7970 - mse: 0.1615 - val_loss: 0.1656 - val_accuracy: 0.7893 - val_mse: 0.1656\n"
     ]
    }
   ],
   "source": [
    "history = model1.fit(X_train, y_train.values, batch_size = 100, validation_split = 0.2,  epochs = 50, verbose = 1)"
   ]
  },
  {
   "cell_type": "code",
   "execution_count": 3592,
   "metadata": {},
   "outputs": [
    {
     "data": {
      "text/plain": [
       "<matplotlib.legend.Legend at 0x1a3a698aec8>"
      ]
     },
     "execution_count": 3592,
     "metadata": {},
     "output_type": "execute_result"
    },
    {
     "data": {
      "image/png": "[encoded data removed]",
      "text/plain": [
       "<Figure size 432x288 with 1 Axes>"
      ]
     },
     "metadata": {
      "needs_background": "light"
     },
     "output_type": "display_data"
    }
   ],
   "source": [
    "\n",
    "\n",
    "hist  = pd.DataFrame(history.history)\n",
    "hist['epoch'] = history.epoch\n",
    "plt.plot(hist['mse'])\n",
    "plt.plot(hist['val_mse'])\n",
    "plt.legend((\"train\" , \"valid\") , loc =0)"
   ]
  },
  {
   "cell_type": "code",
   "execution_count": 3593,
   "metadata": {},
   "outputs": [
    {
     "name": "stdout",
     "output_type": "stream",
     "text": [
      "Accuracy: 0.79833335\n"
     ]
    }
   ],
   "source": [
    "results = model1.evaluate(X_test, y_test.values, verbose =0)\n",
    "accuracy = str(model1.evaluate(X_test,y_test.values, verbose=0)[1])\n",
    "print('Accuracy: '+ accuracy)"
   ]
  },
  {
   "cell_type": "code",
   "execution_count": 3594,
   "metadata": {},
   "outputs": [
    {
     "name": "stdout",
     "output_type": "stream",
     "text": [
      "['loss', 'accuracy', 'mse']\n",
      "[0.16037219750881196, 0.79833335, 0.16037223]\n"
     ]
    }
   ],
   "source": [
    "print(model1.metrics_names)\n",
    "print(results) "
   ]
  },
  {
   "cell_type": "markdown",
   "metadata": {},
   "source": [
    "### Model2 "
   ]
  },
  {
   "cell_type": "code",
   "execution_count": 3595,
   "metadata": {},
   "outputs": [],
   "source": [
    "model2 = Sequential()\n",
    "model2.add(Dense(20, input_shape = (10,), activation = 'relu', kernel_initializer='uniform'))\n",
    "model2.add(Dense(20, activation = 'relu', kernel_initializer='uniform'))\n",
    "model2.add(Dense(10, activation = 'tanh', kernel_initializer='uniform'))\n",
    "model2.add(Dense(1,  activation = 'sigmoid',kernel_initializer='uniform'))"
   ]
  },
  {
   "cell_type": "code",
   "execution_count": 3596,
   "metadata": {},
   "outputs": [],
   "source": [
    "sgd = optimizers.Adam(lr = 0.0001)"
   ]
  },
  {
   "cell_type": "code",
   "execution_count": 3597,
   "metadata": {},
   "outputs": [],
   "source": [
    "model2.compile(optimizer = sgd, loss = 'binary_crossentropy', metrics=['accuracy', 'mse'])"
   ]
  },
  {
   "cell_type": "code",
   "execution_count": 3598,
   "metadata": {},
   "outputs": [
    {
     "name": "stdout",
     "output_type": "stream",
     "text": [
      "Model: \"sequential_121\"\n",
      "_________________________________________________________________\n",
      "Layer (type)                 Output Shape              Param #   \n",
      "=================================================================\n",
      "dense_380 (Dense)            (None, 20)                220       \n",
      "_________________________________________________________________\n",
      "dense_381 (Dense)            (None, 20)                420       \n",
      "_________________________________________________________________\n",
      "dense_382 (Dense)            (None, 10)                210       \n",
      "_________________________________________________________________\n",
      "dense_383 (Dense)            (None, 1)                 11        \n",
      "=================================================================\n",
      "Total params: 861\n",
      "Trainable params: 861\n",
      "Non-trainable params: 0\n",
      "_________________________________________________________________\n"
     ]
    }
   ],
   "source": [
    "model2.summary()"
   ]
  },
  {
   "cell_type": "code",
   "execution_count": 3599,
   "metadata": {},
   "outputs": [
    {
     "name": "stdout",
     "output_type": "stream",
     "text": [
      "Train on 5600 samples, validate on 1400 samples\n",
      "Epoch 1/50\n",
      "5600/5600 [==============================] - 0s 76us/sample - loss: 0.6921 - accuracy: 0.7937 - mse: 0.2495 - val_loss: 0.6909 - val_accuracy: 0.7893 - val_mse: 0.2489\n",
      "Epoch 2/50\n",
      "5600/5600 [==============================] - 0s 15us/sample - loss: 0.6895 - accuracy: 0.7970 - mse: 0.2482 - val_loss: 0.6882 - val_accuracy: 0.7893 - val_mse: 0.2475\n",
      "Epoch 3/50\n",
      "5600/5600 [==============================] - 0s 16us/sample - loss: 0.6862 - accuracy: 0.7970 - mse: 0.2465 - val_loss: 0.6843 - val_accuracy: 0.7893 - val_mse: 0.2456\n",
      "Epoch 4/50\n",
      "5600/5600 [==============================] - 0s 17us/sample - loss: 0.6813 - accuracy: 0.7970 - mse: 0.2441 - val_loss: 0.6784 - val_accuracy: 0.7893 - val_mse: 0.2426\n",
      "Epoch 5/50\n",
      "5600/5600 [==============================] - 0s 16us/sample - loss: 0.6737 - accuracy: 0.7970 - mse: 0.2403 - val_loss: 0.6692 - val_accuracy: 0.7893 - val_mse: 0.2380\n",
      "Epoch 6/50\n",
      "5600/5600 [==============================] - 0s 16us/sample - loss: 0.6621 - accuracy: 0.7970 - mse: 0.2345 - val_loss: 0.6553 - val_accuracy: 0.7893 - val_mse: 0.2311\n",
      "Epoch 7/50\n",
      "5600/5600 [==============================] - 0s 16us/sample - loss: 0.6454 - accuracy: 0.7970 - mse: 0.2262 - val_loss: 0.6366 - val_accuracy: 0.7893 - val_mse: 0.2218\n",
      "Epoch 8/50\n",
      "5600/5600 [==============================] - 0s 18us/sample - loss: 0.6237 - accuracy: 0.7970 - mse: 0.2155 - val_loss: 0.6136 - val_accuracy: 0.7893 - val_mse: 0.2105\n",
      "Epoch 9/50\n",
      "5600/5600 [==============================] - 0s 15us/sample - loss: 0.5990 - accuracy: 0.7970 - mse: 0.2034 - val_loss: 0.5892 - val_accuracy: 0.7893 - val_mse: 0.1988\n",
      "Epoch 10/50\n",
      "5600/5600 [==============================] - 0s 17us/sample - loss: 0.5743 - accuracy: 0.7970 - mse: 0.1917 - val_loss: 0.5666 - val_accuracy: 0.7893 - val_mse: 0.1882\n",
      "Epoch 11/50\n",
      "5600/5600 [==============================] - 0s 17us/sample - loss: 0.5528 - accuracy: 0.7970 - mse: 0.1818 - val_loss: 0.5485 - val_accuracy: 0.7893 - val_mse: 0.1800\n",
      "Epoch 12/50\n",
      "5600/5600 [==============================] - 0s 17us/sample - loss: 0.5364 - accuracy: 0.7970 - mse: 0.1745 - val_loss: 0.5354 - val_accuracy: 0.7893 - val_mse: 0.1744\n",
      "Epoch 13/50\n",
      "5600/5600 [==============================] - 0s 15us/sample - loss: 0.5248 - accuracy: 0.7970 - mse: 0.1696 - val_loss: 0.5274 - val_accuracy: 0.7893 - val_mse: 0.1711\n",
      "Epoch 14/50\n",
      "5600/5600 [==============================] - 0s 15us/sample - loss: 0.5175 - accuracy: 0.7970 - mse: 0.1666 - val_loss: 0.5222 - val_accuracy: 0.7893 - val_mse: 0.1690\n",
      "Epoch 15/50\n",
      "5600/5600 [==============================] - 0s 17us/sample - loss: 0.5129 - accuracy: 0.7970 - mse: 0.1648 - val_loss: 0.5192 - val_accuracy: 0.7893 - val_mse: 0.1679\n",
      "Epoch 16/50\n",
      "5600/5600 [==============================] - 0s 17us/sample - loss: 0.5100 - accuracy: 0.7970 - mse: 0.1638 - val_loss: 0.5174 - val_accuracy: 0.7893 - val_mse: 0.1672\n",
      "Epoch 17/50\n",
      "5600/5600 [==============================] - 0s 18us/sample - loss: 0.5083 - accuracy: 0.7970 - mse: 0.1631 - val_loss: 0.5164 - val_accuracy: 0.7893 - val_mse: 0.1668\n",
      "Epoch 18/50\n",
      "5600/5600 [==============================] - 0s 16us/sample - loss: 0.5073 - accuracy: 0.7970 - mse: 0.1628 - val_loss: 0.5159 - val_accuracy: 0.7893 - val_mse: 0.1667\n",
      "Epoch 19/50\n",
      "5600/5600 [==============================] - 0s 15us/sample - loss: 0.5067 - accuracy: 0.7970 - mse: 0.1625 - val_loss: 0.5156 - val_accuracy: 0.7893 - val_mse: 0.1665\n",
      "Epoch 20/50\n",
      "5600/5600 [==============================] - 0s 16us/sample - loss: 0.5063 - accuracy: 0.7970 - mse: 0.1624 - val_loss: 0.5154 - val_accuracy: 0.7893 - val_mse: 0.1665\n",
      "Epoch 21/50\n",
      "5600/5600 [==============================] - 0s 15us/sample - loss: 0.5060 - accuracy: 0.7970 - mse: 0.1623 - val_loss: 0.5152 - val_accuracy: 0.7893 - val_mse: 0.1664\n",
      "Epoch 22/50\n",
      "5600/5600 [==============================] - 0s 16us/sample - loss: 0.5058 - accuracy: 0.7970 - mse: 0.1622 - val_loss: 0.5151 - val_accuracy: 0.7893 - val_mse: 0.1664\n",
      "Epoch 23/50\n",
      "5600/5600 [==============================] - 0s 17us/sample - loss: 0.5056 - accuracy: 0.7970 - mse: 0.1622 - val_loss: 0.5150 - val_accuracy: 0.7893 - val_mse: 0.1664\n",
      "Epoch 24/50\n",
      "5600/5600 [==============================] - 0s 16us/sample - loss: 0.5055 - accuracy: 0.7970 - mse: 0.1621 - val_loss: 0.5149 - val_accuracy: 0.7893 - val_mse: 0.1663\n",
      "Epoch 25/50\n",
      "5600/5600 [==============================] - 0s 15us/sample - loss: 0.5054 - accuracy: 0.7970 - mse: 0.1621 - val_loss: 0.5148 - val_accuracy: 0.7893 - val_mse: 0.1663\n",
      "Epoch 26/50\n",
      "5600/5600 [==============================] - 0s 19us/sample - loss: 0.5053 - accuracy: 0.7970 - mse: 0.1620 - val_loss: 0.5147 - val_accuracy: 0.7893 - val_mse: 0.1662\n",
      "Epoch 27/50\n",
      "5600/5600 [==============================] - 0s 19us/sample - loss: 0.5052 - accuracy: 0.7970 - mse: 0.1620 - val_loss: 0.5146 - val_accuracy: 0.7893 - val_mse: 0.1662\n",
      "Epoch 28/50\n",
      "5600/5600 [==============================] - 0s 17us/sample - loss: 0.5051 - accuracy: 0.7970 - mse: 0.1620 - val_loss: 0.5145 - val_accuracy: 0.7893 - val_mse: 0.1662\n",
      "Epoch 29/50\n",
      "5600/5600 [==============================] - 0s 17us/sample - loss: 0.5050 - accuracy: 0.7970 - mse: 0.1619 - val_loss: 0.5144 - val_accuracy: 0.7893 - val_mse: 0.1661\n",
      "Epoch 30/50\n",
      "5600/5600 [==============================] - 0s 17us/sample - loss: 0.5049 - accuracy: 0.7970 - mse: 0.1619 - val_loss: 0.5143 - val_accuracy: 0.7893 - val_mse: 0.1661\n",
      "Epoch 31/50\n",
      "5600/5600 [==============================] - 0s 16us/sample - loss: 0.5048 - accuracy: 0.7970 - mse: 0.1619 - val_loss: 0.5142 - val_accuracy: 0.7893 - val_mse: 0.1661\n",
      "Epoch 32/50\n",
      "5600/5600 [==============================] - 0s 18us/sample - loss: 0.5047 - accuracy: 0.7970 - mse: 0.1619 - val_loss: 0.5141 - val_accuracy: 0.7893 - val_mse: 0.1660\n",
      "Epoch 33/50\n",
      "5600/5600 [==============================] - 0s 17us/sample - loss: 0.5046 - accuracy: 0.7970 - mse: 0.1618 - val_loss: 0.5140 - val_accuracy: 0.7893 - val_mse: 0.1660\n",
      "Epoch 34/50\n",
      "5600/5600 [==============================] - 0s 16us/sample - loss: 0.5046 - accuracy: 0.7970 - mse: 0.1618 - val_loss: 0.5139 - val_accuracy: 0.7893 - val_mse: 0.1660\n",
      "Epoch 35/50\n",
      "5600/5600 [==============================] - 0s 16us/sample - loss: 0.5045 - accuracy: 0.7970 - mse: 0.1618 - val_loss: 0.5138 - val_accuracy: 0.7893 - val_mse: 0.1659\n",
      "Epoch 36/50\n",
      "5600/5600 [==============================] - 0s 17us/sample - loss: 0.5044 - accuracy: 0.7970 - mse: 0.1617 - val_loss: 0.5137 - val_accuracy: 0.7893 - val_mse: 0.1659\n",
      "Epoch 37/50\n",
      "5600/5600 [==============================] - 0s 15us/sample - loss: 0.5043 - accuracy: 0.7970 - mse: 0.1617 - val_loss: 0.5135 - val_accuracy: 0.7893 - val_mse: 0.1659\n",
      "Epoch 38/50\n",
      "5600/5600 [==============================] - 0s 16us/sample - loss: 0.5042 - accuracy: 0.7970 - mse: 0.1617 - val_loss: 0.5135 - val_accuracy: 0.7893 - val_mse: 0.1658\n",
      "Epoch 39/50\n",
      "5600/5600 [==============================] - 0s 17us/sample - loss: 0.5042 - accuracy: 0.7970 - mse: 0.1617 - val_loss: 0.5133 - val_accuracy: 0.7893 - val_mse: 0.1658\n",
      "Epoch 40/50\n",
      "5600/5600 [==============================] - 0s 17us/sample - loss: 0.5041 - accuracy: 0.7970 - mse: 0.1616 - val_loss: 0.5133 - val_accuracy: 0.7893 - val_mse: 0.1658\n",
      "Epoch 41/50\n",
      "5600/5600 [==============================] - 0s 16us/sample - loss: 0.5040 - accuracy: 0.7970 - mse: 0.1616 - val_loss: 0.5131 - val_accuracy: 0.7893 - val_mse: 0.1657\n",
      "Epoch 42/50\n",
      "5600/5600 [==============================] - 0s 15us/sample - loss: 0.5040 - accuracy: 0.7970 - mse: 0.1616 - val_loss: 0.5131 - val_accuracy: 0.7893 - val_mse: 0.1657\n",
      "Epoch 43/50\n",
      "5600/5600 [==============================] - 0s 15us/sample - loss: 0.5039 - accuracy: 0.7970 - mse: 0.1616 - val_loss: 0.5129 - val_accuracy: 0.7893 - val_mse: 0.1657\n",
      "Epoch 44/50\n",
      "5600/5600 [==============================] - 0s 16us/sample - loss: 0.5038 - accuracy: 0.7970 - mse: 0.1616 - val_loss: 0.5129 - val_accuracy: 0.7893 - val_mse: 0.1656\n",
      "Epoch 45/50\n",
      "5600/5600 [==============================] - 0s 15us/sample - loss: 0.5038 - accuracy: 0.7970 - mse: 0.1615 - val_loss: 0.5128 - val_accuracy: 0.7893 - val_mse: 0.1656\n",
      "Epoch 46/50\n"
     ]
    },
    {
     "name": "stdout",
     "output_type": "stream",
     "text": [
      "5600/5600 [==============================] - 0s 15us/sample - loss: 0.5037 - accuracy: 0.7970 - mse: 0.1615 - val_loss: 0.5127 - val_accuracy: 0.7893 - val_mse: 0.1656\n",
      "Epoch 47/50\n",
      "5600/5600 [==============================] - ETA: 0s - loss: 0.4977 - accuracy: 0.8011 - mse: 0.15 - 0s 16us/sample - loss: 0.5036 - accuracy: 0.7970 - mse: 0.1615 - val_loss: 0.5126 - val_accuracy: 0.7893 - val_mse: 0.1655\n",
      "Epoch 48/50\n",
      "5600/5600 [==============================] - 0s 16us/sample - loss: 0.5036 - accuracy: 0.7970 - mse: 0.1615 - val_loss: 0.5125 - val_accuracy: 0.7893 - val_mse: 0.1655\n",
      "Epoch 49/50\n",
      "5600/5600 [==============================] - 0s 15us/sample - loss: 0.5035 - accuracy: 0.7970 - mse: 0.1615 - val_loss: 0.5124 - val_accuracy: 0.7893 - val_mse: 0.1655\n",
      "Epoch 50/50\n",
      "5600/5600 [==============================] - 0s 15us/sample - loss: 0.5035 - accuracy: 0.7970 - mse: 0.1615 - val_loss: 0.5123 - val_accuracy: 0.7893 - val_mse: 0.1655\n"
     ]
    }
   ],
   "source": [
    "history = model2.fit(X_train, y_train.values, batch_size = 100, validation_split = 0.2,  epochs = 50, verbose = 1)"
   ]
  },
  {
   "cell_type": "code",
   "execution_count": 3600,
   "metadata": {},
   "outputs": [
    {
     "data": {
      "text/plain": [
       "<matplotlib.legend.Legend at 0x1a3a6771548>"
      ]
     },
     "execution_count": 3600,
     "metadata": {},
     "output_type": "execute_result"
    },
    {
     "data": {
      "image/png": "[encoded data removed]",
      "text/plain": [
       "<Figure size 432x288 with 1 Axes>"
      ]
     },
     "metadata": {
      "needs_background": "light"
     },
     "output_type": "display_data"
    }
   ],
   "source": [
    "\n",
    "\n",
    "hist  = pd.DataFrame(history.history)\n",
    "hist['epoch'] = history.epoch\n",
    "plt.plot(hist['mse'])\n",
    "plt.plot(hist['val_mse'])\n",
    "plt.legend((\"train\" , \"valid\") , loc =0)"
   ]
  },
  {
   "cell_type": "code",
   "execution_count": 3601,
   "metadata": {},
   "outputs": [
    {
     "name": "stdout",
     "output_type": "stream",
     "text": [
      "Accuracy: 0.79833335\n"
     ]
    }
   ],
   "source": [
    "results = model2.evaluate(X_test, y_test.values, verbose =0)\n",
    "accuracy = str(model1.evaluate(X_test,y_test.values, verbose=0)[1])\n",
    "print('Accuracy: '+ accuracy)"
   ]
  },
  {
   "cell_type": "code",
   "execution_count": 3602,
   "metadata": {},
   "outputs": [
    {
     "name": "stdout",
     "output_type": "stream",
     "text": [
      "['loss', 'accuracy', 'mse']\n",
      "[0.5004248178799947, 0.79833335, 0.16024715]\n"
     ]
    }
   ],
   "source": [
    "print(model2.metrics_names)\n",
    "print(results) "
   ]
  },
  {
   "cell_type": "markdown",
   "metadata": {},
   "source": [
    "### Predict the results using 0.5 as a threshold. Note that you need to first predict the probability and then predict classes using the given threshold (10points)"
   ]
  },
  {
   "cell_type": "code",
   "execution_count": 3603,
   "metadata": {},
   "outputs": [],
   "source": [
    "def predict_with_threshold( x, batch_size, verbose):\n",
    "    proba = model2.predict(x, batch_size=batch_size, verbose=verbose)\n",
    "    return (proba >= proba.mean()).astype('int32')\n"
   ]
  },
  {
   "cell_type": "code",
   "execution_count": 3604,
   "metadata": {},
   "outputs": [],
   "source": [
    "Y_pred = predict_with_threshold(X_test, batch_size=50, verbose=0)\n"
   ]
  },
  {
   "cell_type": "markdown",
   "metadata": {},
   "source": [
    "### Print the Accuracy score and confusion matrix (5points)"
   ]
  },
  {
   "cell_type": "code",
   "execution_count": 3605,
   "metadata": {},
   "outputs": [
    {
     "name": "stdout",
     "output_type": "stream",
     "text": [
      "Recall_score: 0.3933884297520661\n",
      "Precision_score: 0.24663212435233162\n",
      "F-score: 0.3031847133757962\n"
     ]
    }
   ],
   "source": [
    "print('Recall_score: ' + str(recall_score(y_test.values,Y_pred)))\n",
    "print('Precision_score: ' + str(precision_score(y_test.values, Y_pred)))\n",
    "print('F-score: ' + str(f1_score(y_test.values,Y_pred)))\n",
    "confusionMatrix = confusion_matrix(y_test.values,Y_pred)\n"
   ]
  },
  {
   "cell_type": "code",
   "execution_count": 3606,
   "metadata": {},
   "outputs": [
    {
     "data": {
      "text/plain": [
       "<matplotlib.axes._subplots.AxesSubplot at 0x1a39d8e1508>"
      ]
     },
     "execution_count": 3606,
     "metadata": {},
     "output_type": "execute_result"
    },
    {
     "data": {
      "image/png": "[encoded data removed]",
      "text/plain": [
       "<Figure size 432x288 with 2 Axes>"
      ]
     },
     "metadata": {
      "needs_background": "light"
     },
     "output_type": "display_data"
    }
   ],
   "source": [
    "group_names = ['True Neg','False Pos','False Neg','True Pos']\n",
    "group_counts = [\"{0:0.0f}\".format(value) for value in confusionMatrix.flatten()]\n",
    "group_percentages = [\"{0:.2%}\".format(value) for value in confusionMatrix.flatten()/np.sum(confusionMatrix)]\n",
    "labels = [f\"{v1}\\n{v2}\\n{v3}\" for v1, v2, v3 in  zip(group_names,group_counts,group_percentages)]\n",
    "labels = np.asarray(labels).reshape(2,2)\n",
    "sns.heatmap(confusionMatrix, annot=labels, fmt='', cmap='Blues')"
   ]
  }
 ],
 "metadata": {
  "kernelspec": {
   "display_name": "Python 3",
   "language": "python",
   "name": "python3"
  },
  "language_info": {
   "codemirror_mode": {
    "name": "ipython",
    "version": 3
   },
   "file_extension": ".py",
   "mimetype": "text/x-python",
   "name": "python",
   "nbconvert_exporter": "python",
   "pygments_lexer": "ipython3",
   "version": "3.7.6"
  }
 },
 "nbformat": 4,
 "nbformat_minor": 4
}
